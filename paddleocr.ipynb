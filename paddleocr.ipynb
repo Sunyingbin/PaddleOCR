{
 "cells": [
  {
   "cell_type": "code",
   "execution_count": null,
   "metadata": {
    "collapsed": false
   },
   "outputs": [],
   "source": [
    "# 查看当前挂载的数据集目录, 该目录下的变更重启环境后会自动还原\n",
    "# View dataset directory. This directory will be recovered automatically after resetting environment. \n",
    "!ls /home/aistudio/data"
   ]
  },
  {
   "cell_type": "code",
   "execution_count": 0,
   "metadata": {
    "collapsed": false
   },
   "outputs": [],
   "source": [
    "# 查看工作区文件, 该目录下的变更将会持久保存. 请及时清理不必要的文件, 避免加载过慢.\n",
    "# View personal work directory. All changes under this directory will be kept even after reset. Please clean unnecessary files in time to speed up environment loading.\n",
    "!ls /home/aistudio/work"
   ]
  },
  {
   "cell_type": "code",
   "execution_count": null,
   "metadata": {
    "collapsed": false
   },
   "outputs": [],
   "source": [
    "# 如果需要进行持久化安装, 需要使用持久化路径, 如下方代码示例:\n",
    "# If a persistence installation is required, you need to use the persistence path as the following:\n",
    "!mkdir /home/aistudio/external-libraries\n",
    "!pip install beautifulsoup4 -t /home/aistudio/external-libraries"
   ]
  },
  {
   "cell_type": "code",
   "execution_count": null,
   "metadata": {
    "collapsed": false
   },
   "outputs": [],
   "source": [
    "# 同时添加如下代码, 这样每次环境(kernel)启动的时候只要运行下方代码即可:\r\n",
    "# Also add the following code, so that every time the environment (kernel) starts, just run the following code:\r\n",
    "import sys\r\n",
    "sys.path.append('/home/aistudio/external-libraries')"
   ]
  },
  {
   "cell_type": "code",
   "execution_count": 1,
   "metadata": {
    "collapsed": false
   },
   "outputs": [
    {
     "name": "stdout",
     "output_type": "stream",
     "text": [
      "Cloning into 'PaddleOCR'...\n",
      "remote: Enumerating objects: 261, done.\u001b[K\n",
      "remote: Counting objects: 100% (261/261), done.\u001b[K\n",
      "remote: Compressing objects: 100% (201/201), done.\u001b[K\n",
      "remote: Total 1976 (delta 142), reused 131 (delta 60), pack-reused 1715\u001b[K\n",
      "Receiving objects: 100% (1976/1976), 26.56 MiB | 27.00 KiB/s, done.\n",
      "Resolving deltas: 100% (1195/1195), done.\n",
      "Checking connectivity... done.\n"
     ]
    }
   ],
   "source": [
    "!git clone https://github.com/PaddlePaddle/PaddleOCR.git"
   ]
  },
  {
   "cell_type": "code",
   "execution_count": 1,
   "metadata": {
    "collapsed": false
   },
   "outputs": [
    {
     "name": "stdout",
     "output_type": "stream",
     "text": [
      "/home/aistudio/PaddleOCR\n"
     ]
    }
   ],
   "source": [
    "%cd PaddleOCR/"
   ]
  },
  {
   "cell_type": "code",
   "execution_count": 2,
   "metadata": {
    "collapsed": false
   },
   "outputs": [
    {
     "name": "stdout",
     "output_type": "stream",
     "text": [
      "Looking in indexes: https://mirror.baidu.com/pypi/simple\n",
      "Collecting shapely (from -r requirments.txt (line 1))\n",
      "\u001b[?25l  Downloading https://mirror.baidu.com/pypi/packages/82/43/3d04326a1e7c1d7dd8791004443b6b0ef425afda7bb2ce669c6d293e4ba0/Shapely-1.7.0-cp37-cp37m-manylinux1_x86_64.whl (1.8MB)\n",
      "\u001b[K     |████████████████████████████████| 1.8MB 14.9MB/s eta 0:00:01\n",
      "\u001b[?25hCollecting imgaug (from -r requirments.txt (line 2))\n",
      "\u001b[?25l  Downloading https://mirror.baidu.com/pypi/packages/66/b1/af3142c4a85cba6da9f4ebb5ff4e21e2616309552caca5e8acefe9840622/imgaug-0.4.0-py2.py3-none-any.whl (948kB)\n",
      "\u001b[K     |████████████████████████████████| 952kB 15.7MB/s eta 0:00:01\n",
      "\u001b[?25hCollecting pyclipper (from -r requirments.txt (line 3))\n",
      "\u001b[?25l  Downloading https://mirror.baidu.com/pypi/packages/0b/cf/bfc3a89099d677e3460ca3538a710c6034676c7e9026c97d0e8be9cd3292/pyclipper-1.1.0.post3-cp37-cp37m-manylinux1_x86_64.whl (131kB)\n",
      "\u001b[K     |████████████████████████████████| 133kB 22.5MB/s eta 0:00:01\n",
      "\u001b[?25hCollecting lmdb (from -r requirments.txt (line 4))\n",
      "\u001b[?25l  Downloading https://mirror.baidu.com/pypi/packages/c0/5c/d56dbc2532ecf14fa004c543927500c0f645eaca8bd7ec39420c7546396a/lmdb-0.98.tar.gz (869kB)\n",
      "\u001b[K     |████████████████████████████████| 870kB 12.7MB/s eta 0:00:01\n",
      "\u001b[?25hRequirement already satisfied: numpy>=1.15 in /opt/conda/envs/python35-paddle120-env/lib/python3.7/site-packages (from imgaug->-r requirments.txt (line 2)) (1.16.4)\n",
      "Requirement already satisfied: six in /opt/conda/envs/python35-paddle120-env/lib/python3.7/site-packages (from imgaug->-r requirments.txt (line 2)) (1.15.0)\n",
      "Requirement already satisfied: opencv-python in /opt/conda/envs/python35-paddle120-env/lib/python3.7/site-packages (from imgaug->-r requirments.txt (line 2)) (4.1.1.26)\n",
      "Requirement already satisfied: Pillow in /opt/conda/envs/python35-paddle120-env/lib/python3.7/site-packages (from imgaug->-r requirments.txt (line 2)) (7.1.2)\n",
      "Requirement already satisfied: matplotlib in /opt/conda/envs/python35-paddle120-env/lib/python3.7/site-packages (from imgaug->-r requirments.txt (line 2)) (2.2.3)\n",
      "Requirement already satisfied: imageio in /opt/conda/envs/python35-paddle120-env/lib/python3.7/site-packages (from imgaug->-r requirments.txt (line 2)) (2.6.1)\n",
      "Requirement already satisfied: scipy in /opt/conda/envs/python35-paddle120-env/lib/python3.7/site-packages (from imgaug->-r requirments.txt (line 2)) (1.3.0)\n",
      "Collecting scikit-image>=0.14.2 (from imgaug->-r requirments.txt (line 2))\n",
      "\u001b[?25l  Downloading https://mirror.baidu.com/pypi/packages/d7/ee/753ea56fda5bc2a5516a1becb631bf5ada593a2dd44f21971a13a762d4db/scikit_image-0.17.2-cp37-cp37m-manylinux1_x86_64.whl (12.5MB)\n",
      "\u001b[K     |████████████████████████████████| 12.5MB 8.2MB/s eta 0:00:011\n",
      "\u001b[?25hRequirement already satisfied: pyparsing!=2.0.4,!=2.1.2,!=2.1.6,>=2.0.1 in /opt/conda/envs/python35-paddle120-env/lib/python3.7/site-packages (from matplotlib->imgaug->-r requirments.txt (line 2)) (2.4.2)\n",
      "Requirement already satisfied: cycler>=0.10 in /opt/conda/envs/python35-paddle120-env/lib/python3.7/site-packages (from matplotlib->imgaug->-r requirments.txt (line 2)) (0.10.0)\n",
      "Requirement already satisfied: kiwisolver>=1.0.1 in /opt/conda/envs/python35-paddle120-env/lib/python3.7/site-packages (from matplotlib->imgaug->-r requirments.txt (line 2)) (1.1.0)\n",
      "Requirement already satisfied: python-dateutil>=2.1 in /opt/conda/envs/python35-paddle120-env/lib/python3.7/site-packages (from matplotlib->imgaug->-r requirments.txt (line 2)) (2.8.0)\n",
      "Requirement already satisfied: pytz in /opt/conda/envs/python35-paddle120-env/lib/python3.7/site-packages (from matplotlib->imgaug->-r requirments.txt (line 2)) (2019.3)\n",
      "Collecting tifffile>=2019.7.26 (from scikit-image>=0.14.2->imgaug->-r requirments.txt (line 2))\n",
      "\u001b[?25l  Downloading https://mirror.baidu.com/pypi/packages/8b/0d/2cf8a72d01614c3995f6f4471af0be4f9a608efe01f967d7b82aade48043/tifffile-2020.6.3-py3-none-any.whl (133kB)\n",
      "\u001b[K     |████████████████████████████████| 143kB 65.1MB/s eta 0:00:01\n",
      "\u001b[?25hRequirement already satisfied: networkx>=2.0 in /opt/conda/envs/python35-paddle120-env/lib/python3.7/site-packages (from scikit-image>=0.14.2->imgaug->-r requirments.txt (line 2)) (2.4)\n",
      "Collecting PyWavelets>=1.1.1 (from scikit-image>=0.14.2->imgaug->-r requirments.txt (line 2))\n",
      "\u001b[?25l  Downloading https://mirror.baidu.com/pypi/packages/62/bd/592c7242fdd1218a96431512e77265c50812315ef72570ace85e1cfae298/PyWavelets-1.1.1-cp37-cp37m-manylinux1_x86_64.whl (4.4MB)\n",
      "\u001b[K     |████████████████████████████████| 4.4MB 28.5MB/s eta 0:00:01\n",
      "\u001b[?25hRequirement already satisfied: setuptools in /opt/conda/envs/python35-paddle120-env/lib/python3.7/site-packages (from kiwisolver>=1.0.1->matplotlib->imgaug->-r requirments.txt (line 2)) (41.4.0)\n",
      "Requirement already satisfied: decorator>=4.3.0 in /opt/conda/envs/python35-paddle120-env/lib/python3.7/site-packages (from networkx>=2.0->scikit-image>=0.14.2->imgaug->-r requirments.txt (line 2)) (4.4.0)\n",
      "Building wheels for collected packages: lmdb\n",
      "  Building wheel for lmdb (setup.py) ... \u001b[?25ldone\n",
      "\u001b[?25h  Created wheel for lmdb: filename=lmdb-0.98-cp37-cp37m-linux_x86_64.whl size=264310 sha256=8b5e433ebb96b0504d7122d5a2a1dd731eb0fb6e077f2603881640b58d886a19\n",
      "  Stored in directory: /home/aistudio/.cache/pip/wheels/53/a0/7a/eb9ec000443fad79caaa8d70da9a40a54a313c9bb5f682fa36\n",
      "Successfully built lmdb\n",
      "Installing collected packages: shapely, tifffile, PyWavelets, scikit-image, imgaug, pyclipper, lmdb\n",
      "Successfully installed PyWavelets-1.1.1 imgaug-0.4.0 lmdb-0.98 pyclipper-1.1.0.post3 scikit-image-0.17.2 shapely-1.7.0 tifffile-2020.6.3\n"
     ]
    }
   ],
   "source": [
    "# 安装依赖库\r\n",
    "!pip install -r requirments.txt -i https://mirror.baidu.com/pypi/simple"
   ]
  },
  {
   "cell_type": "markdown",
   "metadata": {
    "collapsed": false
   },
   "source": [
    "## 2. 训练文字检测模型\n",
    "\n",
    "### 2.1. 数据准备"
   ]
  },
  {
   "cell_type": "code",
   "execution_count": 4,
   "metadata": {
    "collapsed": false
   },
   "outputs": [],
   "source": [
    "!mkdir train_data"
   ]
  },
  {
   "cell_type": "code",
   "execution_count": 6,
   "metadata": {
    "collapsed": false
   },
   "outputs": [
    {
     "name": "stdout",
     "output_type": "stream",
     "text": [
      "configs  LICENSE  README_en.md\trequirments.txt  train_data\r\n",
      "doc\t ppocr\t  README.md\ttools\r\n"
     ]
    }
   ],
   "source": [
    "!ls"
   ]
  },
  {
   "cell_type": "code",
   "execution_count": 7,
   "metadata": {
    "collapsed": false
   },
   "outputs": [
    {
     "name": "stdout",
     "output_type": "stream",
     "text": [
      "Archive:  images.zip\n",
      "   creating: images/\n",
      "   creating: images/test/\n",
      "  inflating: images/test.txt         \n",
      "  inflating: images/test/20200521105032.png  \n",
      "  inflating: images/test/20200521105043.png  \n",
      "  inflating: images/test/20200525142637.png  \n",
      "  inflating: images/test/20200525142718.png  \n",
      "  inflating: images/test/20200525142733.png  \n",
      "  inflating: images/test/20200525142753.png  \n",
      "  inflating: images/test/20200601092642.png  \n",
      "  inflating: images/test/20200601092726.png  \n",
      "  inflating: images/test/20200601092807.png  \n",
      "  inflating: images/test/20200601092846.png  \n",
      "  inflating: images/test/20200601092857.png  \n",
      "   creating: images/train/\n",
      "  inflating: images/train.txt        \n",
      "  inflating: images/train/20200521104812.png  \n",
      "  inflating: images/train/20200521104904.png  \n",
      "  inflating: images/train/20200521104928.png  \n",
      "  inflating: images/train/20200521104957.png  \n",
      "  inflating: images/train/20200521105007.png  \n",
      "  inflating: images/train/20200521105020.png  \n",
      "  inflating: images/train/20200525090902.png  \n",
      "  inflating: images/train/20200525090919.png  \n",
      "  inflating: images/train/20200525090925.png  \n",
      "  inflating: images/train/20200525090938.png  \n",
      "  inflating: images/train/20200525141658.png  \n",
      "  inflating: images/train/20200525141711.png  \n",
      "  inflating: images/train/20200525141721.png  \n",
      "  inflating: images/train/20200525142245.png  \n",
      "  inflating: images/train/20200525142254.png  \n",
      "  inflating: images/train/20200525142303.png  \n",
      "  inflating: images/train/20200525142313.png  \n",
      "  inflating: images/train/20200525142329.png  \n",
      "  inflating: images/train/20200525142341.png  \n",
      "  inflating: images/train/20200525142353.png  \n",
      "  inflating: images/train/20200525142404.png  \n",
      "  inflating: images/train/20200525142414.png  \n",
      "  inflating: images/train/20200525142420.png  \n",
      "  inflating: images/train/20200525142426.png  \n",
      "  inflating: images/train/20200525142432.png  \n",
      "  inflating: images/train/20200525142438.png  \n",
      "  inflating: images/train/20200525142444.png  \n",
      "  inflating: images/train/20200525142454.png  \n",
      "  inflating: images/train/20200525142508.png  \n",
      "  inflating: images/train/20200525142517.png  \n",
      "  inflating: images/train/20200525142527.png  \n",
      "  inflating: images/train/20200525142535.png  \n",
      "  inflating: images/train/20200525142546.png  \n",
      "  inflating: images/train/20200525142551.png  \n",
      "  inflating: images/train/20200525142556.png  \n",
      "  inflating: images/train/20200525142603.png  \n",
      "  inflating: images/train/20200525142612.png  \n",
      "  inflating: images/train/20200525142617.png  \n",
      "  inflating: images/train/20200525142622.png  \n",
      "  inflating: images/train/20200525142627.png  \n",
      "  inflating: images/train/20200525142632.png  \n",
      "  inflating: images/train/20200525142642.png  \n",
      "  inflating: images/train/20200525142648.png  \n",
      "  inflating: images/train/20200525142653.png  \n",
      "  inflating: images/train/20200525142703.png  \n",
      "  inflating: images/train/20200525142713.png  \n",
      "  inflating: images/train/20200525142723.png  \n",
      "  inflating: images/train/20200525142728.png  \n",
      "  inflating: images/train/20200525142738.png  \n",
      "  inflating: images/train/20200525142747.png  \n",
      "  inflating: images/train/20200526162231.png  \n",
      "  inflating: images/train/20200526162245.png  \n",
      "  inflating: images/train/20200526162254.png  \n",
      "  inflating: images/train/20200526162301.png  \n",
      "  inflating: images/train/20200526162308.png  \n",
      "  inflating: images/train/20200526162332.png  \n",
      "  inflating: images/train/20200526162341.png  \n",
      "  inflating: images/train/20200526162348.png  \n",
      "  inflating: images/train/20200526162354.png  \n",
      "  inflating: images/train/20200526162402.png  \n",
      "  inflating: images/train/20200526162418.png  \n",
      "  inflating: images/train/20200526162426.png  \n",
      "  inflating: images/train/20200526162435.png  \n",
      "  inflating: images/train/20200526162443.png  \n",
      "  inflating: images/train/20200526162452.png  \n",
      "  inflating: images/train/20200526162501.png  \n",
      "  inflating: images/train/20200526162508.png  \n",
      "  inflating: images/train/20200526162515.png  \n",
      "  inflating: images/train/20200526162526.png  \n",
      "  inflating: images/train/20200526162535.png  \n",
      "  inflating: images/train/20200526162549.png  \n",
      "  inflating: images/train/20200526162556.png  \n",
      "  inflating: images/train/20200526162604.png  \n",
      "  inflating: images/train/20200526162611.png  \n",
      "  inflating: images/train/20200526162645.png  \n",
      "  inflating: images/train/20200526162653.png  \n",
      "  inflating: images/train/20200526162700.png  \n",
      "  inflating: images/train/20200526162707.png  \n",
      "  inflating: images/train/20200526162717.png  \n",
      "  inflating: images/train/20200526162724.png  \n",
      "  inflating: images/train/20200526162735.png  \n",
      "  inflating: images/train/20200526162743.png  \n",
      "  inflating: images/train/20200526162752.png  \n",
      "  inflating: images/train/20200526162759.png  \n",
      "  inflating: images/train/20200526162806.png  \n",
      "  inflating: images/train/20200526162815.png  \n",
      "  inflating: images/train/20200526162821.png  \n",
      "  inflating: images/train/20200526162830.png  \n",
      "  inflating: images/train/20200526162837.png  \n",
      "  inflating: images/train/20200526162845.png  \n",
      "  inflating: images/train/20200526162851.png  \n",
      "  inflating: images/train/20200526162900.png  \n",
      "  inflating: images/train/20200526162908.png  \n",
      "  inflating: images/train/20200526162915.png  \n",
      "  inflating: images/train/20200526162927.png  \n",
      "  inflating: images/train/20200526162933.png  \n",
      "  inflating: images/train/20200526162939.png  \n",
      "  inflating: images/train/20200526162947.png  \n",
      "  inflating: images/train/20200526162955.png  \n",
      "  inflating: images/train/20200526163001.png  \n",
      "  inflating: images/train/20200526163009.png  \n",
      "  inflating: images/train/20200526163016.png  \n",
      "  inflating: images/train/20200526163025.png  \n",
      "  inflating: images/train/20200526163032.png  \n",
      "  inflating: images/train/20200526163040.png  \n",
      "  inflating: images/train/20200526163047.png  \n",
      "  inflating: images/train/20200526163056.png  \n",
      "  inflating: images/train/20200526163103.png  \n",
      "  inflating: images/train/20200526163129.png  \n",
      "  inflating: images/train/20200526163138.png  \n",
      "  inflating: images/train/20200526163146.png  \n",
      "  inflating: images/train/20200526163151.png  \n",
      "  inflating: images/train/20200529093133.png  \n",
      "  inflating: images/train/20200529093147.png  \n",
      "  inflating: images/train/20200529093158.png  \n",
      "  inflating: images/train/20200529093206.png  \n",
      "  inflating: images/train/20200529093229.png  \n",
      "  inflating: images/train/20200529093235.png  \n",
      "  inflating: images/train/20200529093243.png  \n",
      "  inflating: images/train/20200529093251.png  \n",
      "  inflating: images/train/20200529093257.png  \n",
      "  inflating: images/train/20200529093303.png  \n",
      "  inflating: images/train/20200529093313.png  \n",
      "  inflating: images/train/20200529093322.png  \n",
      "  inflating: images/train/20200529093335.png  \n",
      "  inflating: images/train/20200529093342.png  \n",
      "  inflating: images/train/20200529093348.png  \n",
      "  inflating: images/train/20200529093403.png  \n",
      "  inflating: images/train/20200529093414.png  \n",
      "  inflating: images/train/20200529093420.png  \n",
      "  inflating: images/train/20200529093425.png  \n",
      "  inflating: images/train/20200529093431.png  \n",
      "  inflating: images/train/20200529093443.png  \n",
      "  inflating: images/train/20200529093453.png  \n",
      "  inflating: images/train/20200529093503.png  \n",
      "  inflating: images/train/20200529093509.png  \n",
      "  inflating: images/train/20200529093518.png  \n",
      "  inflating: images/train/20200529093526.png  \n",
      "  inflating: images/train/20200529093532.png  \n",
      "  inflating: images/train/20200529093541.png  \n",
      "  inflating: images/train/20200529093547.png  \n",
      "  inflating: images/train/20200601092512.png  \n",
      "  inflating: images/train/20200601092542.png  \n",
      "  inflating: images/train/20200601092557.png  \n",
      "  inflating: images/train/20200601092609.png  \n",
      "  inflating: images/train/20200601092652.png  \n",
      "  inflating: images/train/20200601092735.png  \n",
      "  inflating: images/train/20200601092755.png  \n",
      "  inflating: images/train/20200601092834.png  \n",
      "  inflating: images/train/20200601092919.png  \n"
     ]
    }
   ],
   "source": [
    "!cd train_data/ && unzip -o images.zip"
   ]
  },
  {
   "cell_type": "markdown",
   "metadata": {
    "collapsed": false
   },
   "source": [
    "提供的标注文件格式为：\n",
    "```\n",
    "\" 图像文件名                    json.dumps编码的图像标注信息\"\n",
    "test/img_61.jpg    [{\"transcription\": \"MASA\", \"points\": [[310, 104], [416, 141], [418, 216], [312, 179]], ...}]\n",
    "```\n",
    "json.dumps编码前的图像标注信息是包含多个字典的list，字典中的$points$表示文本框的四个点的坐标(x, y)，从左上角的点开始顺时针排列。\n",
    "$transcription$表示当前文本框的文字，在文本检测任务中并不需要这个信息。\n",
    "如果您想在其他数据集上训练PaddleOCR，可以按照上述形式构建标注文件。\n",
    "\n",
    "\n",
    "### 2.2 快速启动训练\n",
    "\n",
    "首先下载pretrain model，PaddleOCR的检测模型目前支持两种backbone，分别是MobileNetV3、ResNet50_vd，\n",
    "您可以根据需求使用[PaddleClas](https://github.com/PaddlePaddle/PaddleClas/tree/master/ppcls/modeling/architectures)中的模型更换backbone。"
   ]
  },
  {
   "cell_type": "code",
   "execution_count": 8,
   "metadata": {
    "collapsed": false
   },
   "outputs": [
    {
     "name": "stdout",
     "output_type": "stream",
     "text": [
      "--2020-06-23 15:31:11--  https://paddle-imagenet-models-name.bj.bcebos.com/MobileNetV3_large_x0_5_pretrained.tar\n",
      "Resolving paddle-imagenet-models-name.bj.bcebos.com (paddle-imagenet-models-name.bj.bcebos.com)... 182.61.200.195, 182.61.200.229\n",
      "Connecting to paddle-imagenet-models-name.bj.bcebos.com (paddle-imagenet-models-name.bj.bcebos.com)|182.61.200.195|:443... connected.\n",
      "HTTP request sent, awaiting response... 200 OK\n",
      "Length: 9974980 (9.5M) [application/x-tar]\n",
      "Saving to: ‘./pretrain_models/MobileNetV3_large_x0_5_pretrained.tar’\n",
      "\n",
      "MobileNetV3_large_x 100%[===================>]   9.51M  10.5MB/s    in 0.9s    \n",
      "\n",
      "2020-06-23 15:31:12 (10.5 MB/s) - ‘./pretrain_models/MobileNetV3_large_x0_5_pretrained.tar’ saved [9974980/9974980]\n",
      "\n",
      "--2020-06-23 15:31:13--  https://paddle-imagenet-models-name.bj.bcebos.com/ResNet50_vd_ssld_pretrained.tar\n",
      "Resolving paddle-imagenet-models-name.bj.bcebos.com (paddle-imagenet-models-name.bj.bcebos.com)... 182.61.200.229, 182.61.200.195\n",
      "Connecting to paddle-imagenet-models-name.bj.bcebos.com (paddle-imagenet-models-name.bj.bcebos.com)|182.61.200.229|:443... connected.\n",
      "HTTP request sent, awaiting response... 200 OK\n",
      "Length: 95064668 (91M) [application/x-tar]\n",
      "Saving to: ‘./pretrain_models/ResNet50_vd_ssld_pretrained.tar’\n",
      "\n",
      "ResNet50_vd_ssld_pr 100%[===================>]  90.66M  12.2MB/s    in 9.8s    \n",
      "\n",
      "2020-06-23 15:31:23 (9.23 MB/s) - ‘./pretrain_models/ResNet50_vd_ssld_pretrained.tar’ saved [95064668/95064668]\n",
      "\n"
     ]
    }
   ],
   "source": [
    "# 下载MobileNetV3的预训练模型\r\n",
    "!wget -P ./pretrain_models/ https://paddle-imagenet-models-name.bj.bcebos.com/MobileNetV3_large_x0_5_pretrained.tar\r\n",
    "! cd pretrain_models/ && tar xf MobileNetV3_large_x0_5_pretrained.tar\r\n",
    "# 下载ResNet50的预训练模型\r\n",
    "!wget -P ./pretrain_models/ https://paddle-imagenet-models-name.bj.bcebos.com/ResNet50_vd_ssld_pretrained.tar\r\n",
    "! cd pretrain_models/ && tar xf ResNet50_vd_ssld_pretrained.tar"
   ]
  },
  {
   "cell_type": "code",
   "execution_count": 13,
   "metadata": {
    "collapsed": false
   },
   "outputs": [
    {
     "name": "stdout",
     "output_type": "stream",
     "text": [
      "2020-06-23 16:46:03,347-INFO: epoch: 299, iter: 2398, 'lr': 0.001, 'total_loss': 0.528609, 'loss_shrink_maps': 0.257979, 'loss_threshold_maps': 0.221622, 'loss_binary_maps': 0.049919, time: 0.731\r"
     ]
    }
   ],
   "source": [
    "# 训练backbone为MobileNetV3的db算法的检测模型\r\n",
    "!export PYTHONPATH=. && python3 tools/train.py -c configs/det/det_mv3_db_meter.yml "
   ]
  },
  {
   "cell_type": "markdown",
   "metadata": {
    "collapsed": false
   },
   "source": [
    "\n",
    "上述指令中，通过-c 选择训练使用configs/det/det_db_mv3.yml配置文件。\n",
    "有关配置文件的详细解释，请参考/doc目录下的config.md。\n",
    "\n",
    "您也可以通过-o参数在不需要修改yml文件的情况下，改变训练的参数，比如，调整训练的学习率为0.0001\n",
    "```\n",
    "python3 tools/train.py -c configs/det/det_db_mv3.yml -o Optimizer.base_lr=0.0001\n",
    "```\n"
   ]
  },
  {
   "cell_type": "markdown",
   "metadata": {
    "collapsed": false
   },
   "source": [
    "### 2.3. 测试检测效果\n",
    "\n",
    "训练过程中的检测模型保存在'./output/det_db/'中，模型保存的位置通过yml配置文件的Global.save_model_dir参数设置。\n",
    "\n",
    "使用训练好的模型测试单张图像的检测效果。"
   ]
  },
  {
   "cell_type": "code",
   "execution_count": 14,
   "metadata": {
    "collapsed": false
   },
   "outputs": [
    {
     "name": "stdout",
     "output_type": "stream",
     "text": [
      "{'Global': {'algorithm': 'DB', 'use_gpu': True, 'epoch_num': 300, 'log_smooth_window': 20, 'print_batch_step': 2, 'save_model_dir': './output/det_db/', 'save_epoch_step': 50, 'eval_batch_step': 100, 'train_batch_size_per_card': 16, 'test_batch_size_per_card': 1, 'image_shape': [3, 640, 640], 'reader_yml': './configs/det/det_db_meter_reader.yml', 'pretrain_weights': './pretrain_models/MobileNetV3_large_x0_5_pretrained/', 'checkpoints': './output/det_db/best_accuracy.pdparams', 'save_res_path': './output/det_db/predicts_db.txt', 'save_inference_dir': None}, 'Architecture': {'function': 'ppocr.modeling.architectures.det_model,DetModel'}, 'Backbone': {'function': 'ppocr.modeling.backbones.det_mobilenet_v3,MobileNetV3', 'scale': 0.5, 'model_name': 'large'}, 'Head': {'function': 'ppocr.modeling.heads.det_db_head,DBHead', 'model_name': 'large', 'k': 50, 'inner_channels': 96, 'out_channels': 2}, 'Loss': {'function': 'ppocr.modeling.losses.det_db_loss,DBLoss', 'balance_loss': True, 'main_loss_type': 'DiceLoss', 'alpha': 5, 'beta': 10, 'ohem_ratio': 3}, 'Optimizer': {'function': 'ppocr.optimizer,AdamDecay', 'base_lr': 0.001, 'beta1': 0.9, 'beta2': 0.999}, 'PostProcess': {'function': 'ppocr.postprocess.db_postprocess,DBPostProcess', 'thresh': 0.3, 'box_thresh': 0.7, 'max_candidates': 1000, 'unclip_ratio': 2.0}, 'TrainReader': {'reader_function': 'ppocr.data.det.dataset_traversal,TrainReader', 'process_function': 'ppocr.data.det.db_process,DBProcessTrain', 'num_workers': 8, 'img_set_dir': './train_data/images/', 'label_file_path': './train_data/images/train.txt'}, 'EvalReader': {'reader_function': 'ppocr.data.det.dataset_traversal,EvalTestReader', 'process_function': 'ppocr.data.det.db_process,DBProcessTest', 'img_set_dir': './train_data/images/', 'label_file_path': './train_data/images/test.txt', 'test_image_shape': [736, 1280]}, 'TestReader': {'reader_function': 'ppocr.data.det.dataset_traversal,EvalTestReader', 'process_function': 'ppocr.data.det.db_process,DBProcessTest', 'infer_img': './train_data/images/test/', 'img_set_dir': './train_data/images/', 'label_file_path': './train_data/images/test.txt', 'test_image_shape': [736, 1280], 'do_eval': True}}\n",
      "3 640 640\n",
      "W0624 14:09:53.496994 10935 device_context.cc:252] Please NOTE: device: 0, CUDA Capability: 70, Driver API Version: 10.1, Runtime API Version: 9.0\n",
      "W0624 14:09:53.501096 10935 device_context.cc:260] device: 0, cuDNN Version: 7.3.\n",
      "2020-06-24 14:09:56,254-INFO: Finish initing model from ./output/det_db/best_accuracy.pdparams\n",
      "2020-06-24 14:09:56,456-INFO: tackling_num:1\n",
      "2020-06-24 14:09:56,608-INFO: The detected Image saved in ./output/det_db/det_results/20200525142733.png\n",
      "2020-06-24 14:09:56,695-INFO: tackling_num:2\n",
      "2020-06-24 14:09:56,832-INFO: The detected Image saved in ./output/det_db/det_results/20200601092642.png\n",
      "2020-06-24 14:09:56,890-INFO: tackling_num:3\n",
      "2020-06-24 14:09:57,007-INFO: The detected Image saved in ./output/det_db/det_results/20200525142637.png\n",
      "2020-06-24 14:09:57,133-INFO: tackling_num:4\n",
      "2020-06-24 14:09:57,342-INFO: The detected Image saved in ./output/det_db/det_results/20200521105032.png\n",
      "2020-06-24 14:09:57,429-INFO: tackling_num:5\n",
      "2020-06-24 14:09:57,573-INFO: The detected Image saved in ./output/det_db/det_results/20200601092857.png\n",
      "2020-06-24 14:09:57,612-INFO: tackling_num:6\n",
      "2020-06-24 14:09:57,693-INFO: The detected Image saved in ./output/det_db/det_results/20200525142753.png\n",
      "2020-06-24 14:09:57,811-INFO: tackling_num:7\n",
      "2020-06-24 14:09:57,994-INFO: The detected Image saved in ./output/det_db/det_results/20200521105043.png\n",
      "2020-06-24 14:09:58,064-INFO: tackling_num:8\n",
      "2020-06-24 14:09:58,199-INFO: The detected Image saved in ./output/det_db/det_results/20200601092726.png\n",
      "2020-06-24 14:09:58,267-INFO: tackling_num:9\n",
      "2020-06-24 14:09:58,402-INFO: The detected Image saved in ./output/det_db/det_results/20200601092807.png\n",
      "2020-06-24 14:09:58,477-INFO: tackling_num:10\n",
      "2020-06-24 14:09:58,682-INFO: The detected Image saved in ./output/det_db/det_results/20200601092846.png\n",
      "2020-06-24 14:09:58,738-INFO: tackling_num:11\n",
      "2020-06-24 14:09:58,845-INFO: The detected Image saved in ./output/det_db/det_results/20200525142718.png\n",
      "2020-06-24 14:09:58,845-INFO: success!\n"
     ]
    }
   ],
   "source": [
    "!export PYTHONPATH=. && python3 tools/infer_det.py -c configs/det/det_mv3_db_meter.yml -o TestReader.infer_img=\"./train_data/images/test/\"  Global.checkpoints=\"./output/det_db/best_accuracy.pdparams\""
   ]
  },
  {
   "cell_type": "markdown",
   "metadata": {
    "collapsed": false
   },
   "source": [
    "## 将训练好的文字识别模型做剪裁，制作数据集供文字识别模型使用\n",
    "\n",
    "### 2.4. 首先需要将预训练的模型转Inference模型"
   ]
  },
  {
   "cell_type": "markdown",
   "metadata": {
    "collapsed": false
   },
   "source": [
    "#### 以MobileNetV3为backbone训练的DB算法，将训练好的模型转换成inference模型只需要运行如下命令："
   ]
  },
  {
   "cell_type": "code",
   "execution_count": 3,
   "metadata": {
    "collapsed": false
   },
   "outputs": [
    {
     "name": "stdout",
     "output_type": "stream",
     "text": [
      "2020-06-24 09:15:02,967-INFO: {'Global': {'algorithm': 'DB', 'use_gpu': True, 'epoch_num': 300, 'log_smooth_window': 20, 'print_batch_step': 2, 'save_model_dir': './output/det_db/', 'save_epoch_step': 50, 'eval_batch_step': 100, 'train_batch_size_per_card': 16, 'test_batch_size_per_card': 1, 'image_shape': [3, 640, 640], 'reader_yml': './configs/det/det_db_meter_reader.yml', 'pretrain_weights': './pretrain_models/MobileNetV3_large_x0_5_pretrained/', 'checkpoints': './output/det_db/best_accuracy', 'save_res_path': './output/det_db/predicts_db.txt', 'save_inference_dir': './inference/det_db/'}, 'Architecture': {'function': 'ppocr.modeling.architectures.det_model,DetModel'}, 'Backbone': {'function': 'ppocr.modeling.backbones.det_mobilenet_v3,MobileNetV3', 'scale': 0.5, 'model_name': 'large'}, 'Head': {'function': 'ppocr.modeling.heads.det_db_head,DBHead', 'model_name': 'large', 'k': 50, 'inner_channels': 96, 'out_channels': 2}, 'Loss': {'function': 'ppocr.modeling.losses.det_db_loss,DBLoss', 'balance_loss': True, 'main_loss_type': 'DiceLoss', 'alpha': 5, 'beta': 10, 'ohem_ratio': 3}, 'Optimizer': {'function': 'ppocr.optimizer,AdamDecay', 'base_lr': 0.001, 'beta1': 0.9, 'beta2': 0.999}, 'PostProcess': {'function': 'ppocr.postprocess.db_postprocess,DBPostProcess', 'thresh': 0.3, 'box_thresh': 0.7, 'max_candidates': 1000, 'unclip_ratio': 2.0}, 'TrainReader': {'reader_function': 'ppocr.data.det.dataset_traversal,TrainReader', 'process_function': 'ppocr.data.det.db_process,DBProcessTrain', 'num_workers': 8, 'img_set_dir': './train_data/images/', 'label_file_path': './train_data/images/train.txt'}, 'EvalReader': {'reader_function': 'ppocr.data.det.dataset_traversal,EvalTestReader', 'process_function': 'ppocr.data.det.db_process,DBProcessTest', 'img_set_dir': './train_data/images/', 'label_file_path': './train_data/images/test.txt', 'test_image_shape': [736, 1280]}, 'TestReader': {'reader_function': 'ppocr.data.det.dataset_traversal,EvalTestReader', 'process_function': 'ppocr.data.det.db_process,DBProcessTest', 'infer_img': None, 'img_set_dir': './train_data/images/', 'label_file_path': './train_data/images/test.txt', 'test_image_shape': [736, 1280], 'do_eval': True}}\n",
      "3 640 640\n",
      "W0624 09:15:03.319934   169 device_context.cc:252] Please NOTE: device: 0, CUDA Capability: 70, Driver API Version: 10.1, Runtime API Version: 9.0\n",
      "W0624 09:15:03.324030   169 device_context.cc:260] device: 0, cuDNN Version: 7.3.\n",
      "2020-06-24 09:15:06,115-INFO: Finish initing model from ./output/det_db/best_accuracy\n",
      "inference model saved in ./inference/det_db//model and ./inference/det_db//params\n",
      "save success, output_name_list: ['maps']\n"
     ]
    }
   ],
   "source": [
    "!python3 tools/export_model.py -c configs/det/det_mv3_db_meter.yml -o Global.checkpoints=./output/det_db/best_accuracy Global.save_inference_dir=./inference/det_db/"
   ]
  },
  {
   "cell_type": "markdown",
   "metadata": {
    "collapsed": false
   },
   "source": [
    "#### 接下来要开始生成文字识别的数据集"
   ]
  },
  {
   "cell_type": "code",
   "execution_count": 21,
   "metadata": {
    "collapsed": false
   },
   "outputs": [
    {
     "name": "stdout",
     "output_type": "stream",
     "text": [
      "20200525142733\n",
      "Predict time of ./train_data/images/test/20200525142733.png: 1.873s\n",
      "20200601092642\n",
      "Predict time of ./train_data/images/test/20200601092642.png: 0.047s\n",
      "20200525142637\n",
      "Predict time of ./train_data/images/test/20200525142637.png: 0.049s\n",
      "20200521105032\n",
      "Predict time of ./train_data/images/test/20200521105032.png: 0.034s\n",
      "20200601092857\n",
      "Predict time of ./train_data/images/test/20200601092857.png: 0.041s\n",
      "20200525142753\n",
      "Predict time of ./train_data/images/test/20200525142753.png: 0.026s\n",
      "20200521105043\n",
      "Predict time of ./train_data/images/test/20200521105043.png: 0.031s\n",
      "20200601092726\n",
      "Predict time of ./train_data/images/test/20200601092726.png: 0.042s\n",
      "20200601092807\n",
      "Predict time of ./train_data/images/test/20200601092807.png: 0.042s\n",
      "20200601092846\n",
      "Predict time of ./train_data/images/test/20200601092846.png: 0.040s\n",
      "20200525142718\n",
      "Predict time of ./train_data/images/test/20200525142718.png: 0.040s\n"
     ]
    }
   ],
   "source": [
    "!export PYTHONPATH=. && python3 tools/infer/predict_system_export_data.py --image_dir=\"./train_data/images/test/\" --det_model_dir=\"./inference/det_db/\" "
   ]
  },
  {
   "cell_type": "markdown",
   "metadata": {
    "collapsed": false
   },
   "source": [
    "## 3. 训练文字识别模型\n",
    "\n",
    "\n",
    "### 3.1. 数据准备"
   ]
  },
  {
   "cell_type": "code",
   "execution_count": 22,
   "metadata": {
    "collapsed": false
   },
   "outputs": [
    {
     "name": "stdout",
     "output_type": "stream",
     "text": [
      "configs    LICENSE\t ppocr\t\t  README.md\t   train_data\r\n",
      "doc\t   output\t pretrain_models  requirments.txt\r\n",
      "inference  output_meter  README_en.md\t  tools\r\n"
     ]
    }
   ],
   "source": [
    "!ls"
   ]
  },
  {
   "cell_type": "markdown",
   "metadata": {
    "collapsed": false
   },
   "source": [
    "若您本地没有数据集，可以在官网下载 [icdar2015](http://rrc.cvc.uab.es/?ch=4&com=downloads) 数据，用于快速验证。也可以参考[DTRB](https://github.com/clovaai/deep-text-recognition-benchmark#download-lmdb-dataset-for-traininig-and-evaluation-from-here)，下载 benchmark 所需的lmdb格式数据集。\n",
    "\n",
    "* 使用自己数据集：\n",
    "\n",
    "若您希望使用自己的数据进行训练，请参考下文组织您的数据。\n",
    "\n",
    "- 训练集\n",
    "\n",
    "首先请将训练图片放入同一个文件夹（train_images），并用一个txt文件（rec_gt_train.txt）记录图片路径和标签。\n",
    "\n",
    "* 注意： 默认请将图片路径和图片标签用 \\t 分割，如用其他方式分割将造成训练报错\n",
    "\n",
    "```\n",
    "\" 图像文件名                 图像标注信息 \"\n",
    "\n",
    "train_data/train_0001.jpg   简单可依赖\n",
    "train_data/train_0002.jpg   用科技让复杂的世界更简单\n",
    "```\n",
    "最终训练集应有如下文件结构：\n",
    "\n",
    "```\n",
    "|-train_data\n",
    "    |-ic15_data\n",
    "        |- rec_gt_train.txt\n",
    "        |- train\n",
    "            |- word_001.png\n",
    "            |- word_002.jpg\n",
    "            |- word_003.jpg\n",
    "            | ...\n",
    "```\n",
    "\n",
    "- 测试集\n",
    "\n",
    "同训练集类似，测试集也需要提供一个包含所有图片的文件夹（test）和一个rec_gt_test.txt，测试集的结构如下所示：\n",
    "\n",
    "```\n",
    "|-train_data\n",
    "    |-ic15_data\n",
    "        |- rec_gt_test.txt\n",
    "        |- test\n",
    "            |- word_001.jpg\n",
    "            |- word_002.jpg\n",
    "            |- word_003.jpg\n",
    "            | ...\n",
    "```"
   ]
  },
  {
   "cell_type": "code",
   "execution_count": 24,
   "metadata": {
    "collapsed": false
   },
   "outputs": [
    {
     "name": "stdout",
     "output_type": "stream",
     "text": [
      "Archive:  output_meter.zip\r\n",
      "   creating: output_meter/\r\n",
      "   creating: output_meter/test/\r\n",
      "  inflating: output_meter/test.txt   \r\n",
      "  inflating: output_meter/test/img_crop_20200521104928.jpg  \r\n",
      "  inflating: output_meter/test/img_crop_20200521105007.jpg  \r\n",
      "  inflating: output_meter/test/img_crop_20200525142551.jpg  \r\n",
      "  inflating: output_meter/test/img_crop_20200525142612.jpg  \r\n",
      "  inflating: output_meter/test/img_crop_20200525142637.jpg  \r\n",
      "  inflating: output_meter/test/img_crop_20200529093403.jpg  \r\n",
      "  inflating: output_meter/test/img_crop_20200601092846.jpg  \r\n",
      "  inflating: output_meter/test/img_crop_20200601092857.jpg  \r\n",
      "  inflating: output_meter/test/img_crop_20200601092919.jpg  \r\n",
      "   creating: output_meter/train/\r\n",
      "  inflating: output_meter/train.txt  \r\n",
      "  inflating: output_meter/train/img_crop_20200521104812.jpg  \r\n",
      "  inflating: output_meter/train/img_crop_20200521104904.jpg  \r\n",
      "  inflating: output_meter/train/img_crop_20200521105020.jpg  \r\n",
      "  inflating: output_meter/train/img_crop_20200521105032.jpg  \r\n",
      "  inflating: output_meter/train/img_crop_20200525090919.jpg  \r\n",
      "  inflating: output_meter/train/img_crop_20200525090925.jpg  \r\n",
      "  inflating: output_meter/train/img_crop_20200525090938.jpg  \r\n",
      "  inflating: output_meter/train/img_crop_20200525141658.jpg  \r\n",
      "  inflating: output_meter/train/img_crop_20200525141711.jpg  \r\n",
      "  inflating: output_meter/train/img_crop_20200525141721.jpg  \r\n",
      "  inflating: output_meter/train/img_crop_20200525142254.jpg  \r\n",
      "  inflating: output_meter/train/img_crop_20200525142303.jpg  \r\n",
      "  inflating: output_meter/train/img_crop_20200525142313.jpg  \r\n",
      "  inflating: output_meter/train/img_crop_20200525142341.jpg  \r\n",
      "  inflating: output_meter/train/img_crop_20200525142353.jpg  \r\n",
      "  inflating: output_meter/train/img_crop_20200525142404.jpg  \r\n",
      "  inflating: output_meter/train/img_crop_20200525142414.jpg  \r\n",
      "  inflating: output_meter/train/img_crop_20200525142420.jpg  \r\n",
      "  inflating: output_meter/train/img_crop_20200525142426.jpg  \r\n",
      "  inflating: output_meter/train/img_crop_20200525142432.jpg  \r\n",
      "  inflating: output_meter/train/img_crop_20200525142438.jpg  \r\n",
      "  inflating: output_meter/train/img_crop_20200525142444.jpg  \r\n",
      "  inflating: output_meter/train/img_crop_20200525142454.jpg  \r\n",
      "  inflating: output_meter/train/img_crop_20200525142517.jpg  \r\n",
      "  inflating: output_meter/train/img_crop_20200525142527.jpg  \r\n",
      "  inflating: output_meter/train/img_crop_20200525142535.jpg  \r\n",
      "  inflating: output_meter/train/img_crop_20200525142546.jpg  \r\n",
      "  inflating: output_meter/train/img_crop_20200525142556.jpg  \r\n",
      "  inflating: output_meter/train/img_crop_20200525142603.jpg  \r\n",
      "  inflating: output_meter/train/img_crop_20200525142617.jpg  \r\n",
      "  inflating: output_meter/train/img_crop_20200525142622.jpg  \r\n",
      "  inflating: output_meter/train/img_crop_20200525142627.jpg  \r\n",
      "  inflating: output_meter/train/img_crop_20200525142632.jpg  \r\n",
      "  inflating: output_meter/train/img_crop_20200525142642.jpg  \r\n",
      "  inflating: output_meter/train/img_crop_20200525142648.jpg  \r\n",
      "  inflating: output_meter/train/img_crop_20200525142653.jpg  \r\n",
      "  inflating: output_meter/train/img_crop_20200525142703.jpg  \r\n",
      "  inflating: output_meter/train/img_crop_20200525142713.jpg  \r\n",
      "  inflating: output_meter/train/img_crop_20200525142718.jpg  \r\n",
      "  inflating: output_meter/train/img_crop_20200525142723.jpg  \r\n",
      "  inflating: output_meter/train/img_crop_20200525142728.jpg  \r\n",
      "  inflating: output_meter/train/img_crop_20200525142733.jpg  \r\n",
      "  inflating: output_meter/train/img_crop_20200525142738.jpg  \r\n",
      "  inflating: output_meter/train/img_crop_20200525142747.jpg  \r\n",
      "  inflating: output_meter/train/img_crop_20200525142753.jpg  \r\n",
      "  inflating: output_meter/train/img_crop_20200526162231.jpg  \r\n",
      "  inflating: output_meter/train/img_crop_20200526162245.jpg  \r\n",
      "  inflating: output_meter/train/img_crop_20200526162254.jpg  \r\n",
      "  inflating: output_meter/train/img_crop_20200526162301.jpg  \r\n",
      "  inflating: output_meter/train/img_crop_20200526162308.jpg  \r\n",
      "  inflating: output_meter/train/img_crop_20200526162332.jpg  \r\n",
      "  inflating: output_meter/train/img_crop_20200526162341.jpg  \r\n",
      "  inflating: output_meter/train/img_crop_20200526162348.jpg  \r\n",
      "  inflating: output_meter/train/img_crop_20200526162354.jpg  \r\n",
      "  inflating: output_meter/train/img_crop_20200526162402.jpg  \r\n",
      "  inflating: output_meter/train/img_crop_20200526162418.jpg  \r\n",
      "  inflating: output_meter/train/img_crop_20200526162435.jpg  \r\n",
      "  inflating: output_meter/train/img_crop_20200526162443.jpg  \r\n",
      "  inflating: output_meter/train/img_crop_20200526162452.jpg  \r\n",
      "  inflating: output_meter/train/img_crop_20200526162501.jpg  \r\n",
      "  inflating: output_meter/train/img_crop_20200526162508.jpg  \r\n",
      "  inflating: output_meter/train/img_crop_20200526162515.jpg  \r\n",
      "  inflating: output_meter/train/img_crop_20200526162535.jpg  \r\n",
      "  inflating: output_meter/train/img_crop_20200526162556.jpg  \r\n",
      "  inflating: output_meter/train/img_crop_20200526162604.jpg  \r\n",
      "  inflating: output_meter/train/img_crop_20200526162611.jpg  \r\n",
      "  inflating: output_meter/train/img_crop_20200526162645.jpg  \r\n",
      "  inflating: output_meter/train/img_crop_20200526162653.jpg  \r\n",
      "  inflating: output_meter/train/img_crop_20200526162707.jpg  \r\n",
      "  inflating: output_meter/train/img_crop_20200526162717.jpg  \r\n",
      "  inflating: output_meter/train/img_crop_20200526162724.jpg  \r\n",
      "  inflating: output_meter/train/img_crop_20200526162743.jpg  \r\n",
      "  inflating: output_meter/train/img_crop_20200526162752.jpg  \r\n",
      "  inflating: output_meter/train/img_crop_20200526162759.jpg  \r\n",
      "  inflating: output_meter/train/img_crop_20200526162806.jpg  \r\n",
      "  inflating: output_meter/train/img_crop_20200526162815.jpg  \r\n",
      "  inflating: output_meter/train/img_crop_20200526162821.jpg  \r\n",
      "  inflating: output_meter/train/img_crop_20200526162830.jpg  \r\n",
      "  inflating: output_meter/train/img_crop_20200526162837.jpg  \r\n",
      "  inflating: output_meter/train/img_crop_20200526162845.jpg  \r\n",
      "  inflating: output_meter/train/img_crop_20200526162851.jpg  \r\n",
      "  inflating: output_meter/train/img_crop_20200526162900.jpg  \r\n",
      "  inflating: output_meter/train/img_crop_20200526162908.jpg  \r\n",
      "  inflating: output_meter/train/img_crop_20200526162915.jpg  \r\n",
      "  inflating: output_meter/train/img_crop_20200526162927.jpg  \r\n",
      "  inflating: output_meter/train/img_crop_20200526162933.jpg  \r\n",
      "  inflating: output_meter/train/img_crop_20200526162939.jpg  \r\n",
      "  inflating: output_meter/train/img_crop_20200526162947.jpg  \r\n",
      "  inflating: output_meter/train/img_crop_20200526162955.jpg  \r\n",
      "  inflating: output_meter/train/img_crop_20200526163001.jpg  \r\n",
      "  inflating: output_meter/train/img_crop_20200526163009.jpg  \r\n",
      "  inflating: output_meter/train/img_crop_20200526163016.jpg  \r\n",
      "  inflating: output_meter/train/img_crop_20200526163025.jpg  \r\n",
      "  inflating: output_meter/train/img_crop_20200526163032.jpg  \r\n",
      "  inflating: output_meter/train/img_crop_20200526163040.jpg  \r\n",
      "  inflating: output_meter/train/img_crop_20200526163047.jpg  \r\n",
      "  inflating: output_meter/train/img_crop_20200526163056.jpg  \r\n",
      "  inflating: output_meter/train/img_crop_20200526163103.jpg  \r\n",
      "  inflating: output_meter/train/img_crop_20200526163138.jpg  \r\n",
      "  inflating: output_meter/train/img_crop_20200526163146.jpg  \r\n",
      "  inflating: output_meter/train/img_crop_20200526163151.jpg  \r\n",
      "  inflating: output_meter/train/img_crop_20200529093133.jpg  \r\n",
      "  inflating: output_meter/train/img_crop_20200529093147.jpg  \r\n",
      "  inflating: output_meter/train/img_crop_20200529093158.jpg  \r\n",
      "  inflating: output_meter/train/img_crop_20200529093206.jpg  \r\n",
      "  inflating: output_meter/train/img_crop_20200529093229.jpg  \r\n",
      "  inflating: output_meter/train/img_crop_20200529093235.jpg  \r\n",
      "  inflating: output_meter/train/img_crop_20200529093243.jpg  \r\n",
      "  inflating: output_meter/train/img_crop_20200529093251.jpg  \r\n",
      "  inflating: output_meter/train/img_crop_20200529093257.jpg  \r\n",
      "  inflating: output_meter/train/img_crop_20200529093303.jpg  \r\n",
      "  inflating: output_meter/train/img_crop_20200529093313.jpg  \r\n",
      "  inflating: output_meter/train/img_crop_20200529093322.jpg  \r\n",
      "  inflating: output_meter/train/img_crop_20200529093335.jpg  \r\n",
      "  inflating: output_meter/train/img_crop_20200529093342.jpg  \r\n",
      "  inflating: output_meter/train/img_crop_20200529093348.jpg  \r\n",
      "  inflating: output_meter/train/img_crop_20200529093414.jpg  \r\n",
      "  inflating: output_meter/train/img_crop_20200529093420.jpg  \r\n",
      "  inflating: output_meter/train/img_crop_20200529093425.jpg  \r\n",
      "  inflating: output_meter/train/img_crop_20200529093431.jpg  \r\n",
      "  inflating: output_meter/train/img_crop_20200529093443.jpg  \r\n",
      "  inflating: output_meter/train/img_crop_20200529093453.jpg  \r\n",
      "  inflating: output_meter/train/img_crop_20200529093503.jpg  \r\n",
      "  inflating: output_meter/train/img_crop_20200529093509.jpg  \r\n",
      "  inflating: output_meter/train/img_crop_20200529093518.jpg  \r\n",
      "  inflating: output_meter/train/img_crop_20200529093526.jpg  \r\n",
      "  inflating: output_meter/train/img_crop_20200529093532.jpg  \r\n",
      "  inflating: output_meter/train/img_crop_20200529093541.jpg  \r\n",
      "  inflating: output_meter/train/img_crop_20200529093547.jpg  \r\n",
      "  inflating: output_meter/train/img_crop_20200601092512.jpg  \r\n",
      "  inflating: output_meter/train/img_crop_20200601092542.jpg  \r\n",
      "  inflating: output_meter/train/img_crop_20200601092557.jpg  \r\n",
      "  inflating: output_meter/train/img_crop_20200601092609.jpg  \r\n",
      "  inflating: output_meter/train/img_crop_20200601092642.jpg  \r\n",
      "  inflating: output_meter/train/img_crop_20200601092652.jpg  \r\n",
      "  inflating: output_meter/train/img_crop_20200601092726.jpg  \r\n",
      "  inflating: output_meter/train/img_crop_20200601092735.jpg  \r\n",
      "  inflating: output_meter/train/img_crop_20200601092755.jpg  \r\n",
      "  inflating: output_meter/train/img_crop_20200601092807.jpg  \r\n",
      "  inflating: output_meter/train/img_crop_20200601092834.jpg  \r\n"
     ]
    }
   ],
   "source": [
    "! cd train_data/ && unzip -o output_meter.zip"
   ]
  },
  {
   "cell_type": "markdown",
   "metadata": {
    "collapsed": false
   },
   "source": [
    "### 3.2. 快速启动训练\n",
    "\n",
    "首先下载pretrain model，PaddleOCR的检测模型目前支持两种backbone，分别是MobileNetV3、ResNet50_vd，\n",
    "您可以根据需求使用[PaddleClas](https://github.com/PaddlePaddle/PaddleClas/tree/master/ppcls/modeling/architectures)中的模型更换backbone。\n",
    "本节将以 CRNN 识别模型为例：\n",
    "\n",
    "首先下载pretrain model，您可以下载训练好的模型在 icdar2015 数据上进行finetune。"
   ]
  },
  {
   "cell_type": "code",
   "execution_count": 25,
   "metadata": {
    "collapsed": false
   },
   "outputs": [
    {
     "name": "stdout",
     "output_type": "stream",
     "text": [
      "--2020-06-24 15:33:37--  https://paddleocr.bj.bcebos.com/rec_mv3_none_bilstm_ctc.tar\n",
      "Resolving paddleocr.bj.bcebos.com (paddleocr.bj.bcebos.com)... 182.61.200.229, 182.61.200.195\n",
      "Connecting to paddleocr.bj.bcebos.com (paddleocr.bj.bcebos.com)|182.61.200.229|:443... connected.\n",
      "HTTP request sent, awaiting response... 200 OK\n",
      "Length: 25964544 (25M) [application/x-tar]\n",
      "Saving to: ‘./pretrain_models/rec_mv3_none_bilstm_ctc.tar’\n",
      "\n",
      "rec_mv3_none_bilstm 100%[===================>]  24.76M  7.40MB/s    in 4.0s    \n",
      "\n",
      "2020-06-24 15:33:41 (6.15 MB/s) - ‘./pretrain_models/rec_mv3_none_bilstm_ctc.tar’ saved [25964544/25964544]\n",
      "\n"
     ]
    }
   ],
   "source": [
    "!wget -P ./pretrain_models/ https://paddleocr.bj.bcebos.com/rec_mv3_none_bilstm_ctc.tar\r\n",
    "!cd pretrain_models && tar -xf rec_mv3_none_bilstm_ctc.tar && rm -rf rec_mv3_none_bilstm_ctc.tar"
   ]
  },
  {
   "cell_type": "markdown",
   "metadata": {
    "collapsed": false
   },
   "source": [
    "### 开始训练"
   ]
  },
  {
   "cell_type": "code",
   "execution_count": 26,
   "metadata": {
    "collapsed": false
   },
   "outputs": [
    {
     "name": "stdout",
     "output_type": "stream",
     "text": [
      "2020-06-24 15:38:22,241-INFO: {'Global': {'algorithm': 'CRNN', 'use_gpu': True, 'epoch_num': 300, 'log_smooth_window': 20, 'print_batch_step': 10, 'save_model_dir': './output/rec_CRNN', 'save_epoch_step': 50, 'eval_batch_step': 100, 'train_batch_size_per_card': 16, 'test_batch_size_per_card': 1, 'image_shape': [3, 32, 100], 'max_text_length': 25, 'character_type': 'en', 'loss_type': 'ctc', 'reader_yml': './configs/rec/rec_meter_reader.yml', 'pretrain_weights': './pretrain_models/rec_mv3_none_bilstm_ctc/best_accuracy', 'checkpoints': None, 'save_inference_dir': None, 'infer_img': None}, 'Architecture': {'function': 'ppocr.modeling.architectures.rec_model,RecModel'}, 'Backbone': {'function': 'ppocr.modeling.backbones.rec_mobilenet_v3,MobileNetV3', 'scale': 0.5, 'model_name': 'large'}, 'Head': {'function': 'ppocr.modeling.heads.rec_ctc_head,CTCPredict', 'encoder_type': 'rnn', 'SeqRNN': {'hidden_size': 96}}, 'Loss': {'function': 'ppocr.modeling.losses.rec_ctc_loss,CTCLoss'}, 'Optimizer': {'function': 'ppocr.optimizer,AdamDecay', 'base_lr': 0.0005, 'beta1': 0.9, 'beta2': 0.999, 'decay': {'function': 'cosine_decay', 'step_each_epoch': 20, 'total_epoch': 1000}}, 'TrainReader': {'reader_function': 'ppocr.data.rec.dataset_traversal,SimpleReader', 'num_workers': 8, 'img_set_dir': './train_data/output_meter', 'label_file_path': './train_data/output_meter/train.txt'}, 'EvalReader': {'reader_function': 'ppocr.data.rec.dataset_traversal,SimpleReader', 'img_set_dir': './train_data/output_meter', 'label_file_path': './train_data/output_meter/test.txt'}, 'TestReader': {'reader_function': 'ppocr.data.rec.dataset_traversal,SimpleReader'}}\n",
      "2020-06-24 15:38:23,992-INFO: places would be ommited when DataLoader is not iterable\n",
      "W0624 15:38:24.044358 14418 device_context.cc:252] Please NOTE: device: 0, CUDA Capability: 70, Driver API Version: 10.1, Runtime API Version: 9.0\n",
      "W0624 15:38:24.048374 14418 device_context.cc:260] device: 0, cuDNN Version: 7.3.\n",
      "2020-06-24 15:38:26,816-INFO: Loading parameters from ./pretrain_models/rec_mv3_none_bilstm_ctc/best_accuracy...\n",
      "2020-06-24 15:38:26,907-INFO: Finish initing model from ./pretrain_models/rec_mv3_none_bilstm_ctc/best_accuracy\n",
      "2020-06-24 15:38:28,470-INFO: epoch: 1, iter: 10, lr: 0.000500, 'loss': 253.47284, 'acc': 0.0, time: 0.032\n",
      "2020-06-24 15:38:29,230-INFO: epoch: 2, iter: 20, lr: 0.000500, 'loss': 63.13595, 'acc': 0.28125, time: 0.031\n",
      "2020-06-24 15:38:30,001-INFO: epoch: 3, iter: 30, lr: 0.000500, 'loss': 25.122044, 'acc': 0.6875, time: 0.030\n",
      "2020-06-24 15:38:31,216-INFO: epoch: 5, iter: 40, lr: 0.000500, 'loss': 16.180471, 'acc': 0.75, time: 0.477\n",
      "2020-06-24 15:38:31,983-INFO: epoch: 6, iter: 50, lr: 0.000500, 'loss': 9.146545, 'acc': 0.875, time: 0.032\n",
      "2020-06-24 15:38:32,754-INFO: epoch: 7, iter: 60, lr: 0.000500, 'loss': 7.576318, 'acc': 0.875, time: 0.032\n",
      "2020-06-24 15:38:33,531-INFO: epoch: 8, iter: 70, lr: 0.000500, 'loss': 4.871567, 'acc': 0.9375, time: 0.031\n",
      "2020-06-24 15:38:34,766-INFO: epoch: 10, iter: 80, lr: 0.000500, 'loss': 3.510339, 'acc': 0.96875, time: 0.487\n",
      "2020-06-24 15:38:35,538-INFO: epoch: 11, iter: 90, lr: 0.000500, 'loss': 2.931942, 'acc': 1.0, time: 0.034\n",
      "2020-06-24 15:38:36,312-INFO: epoch: 12, iter: 100, lr: 0.000500, 'loss': 1.514574, 'acc': 1.0, time: 0.032\n",
      "2020-06-24 15:38:36,944-INFO: Already save model in ./output/rec_CRNN/best_accuracy\n",
      "2020-06-24 15:38:36,945-INFO: Test iter: 100, acc:1.000000, best_acc:1.000000, best_epoch:12, best_batch_id:100, eval_sample_num:9\n",
      "2020-06-24 15:38:37,759-INFO: epoch: 13, iter: 110, lr: 0.000500, 'loss': 1.488322, 'acc': 1.0, time: 0.031\n",
      "2020-06-24 15:38:39,006-INFO: epoch: 15, iter: 120, lr: 0.000500, 'loss': 1.996493, 'acc': 1.0, time: 0.490\n",
      "2020-06-24 15:38:39,778-INFO: epoch: 16, iter: 130, lr: 0.000500, 'loss': 1.701794, 'acc': 1.0, time: 0.033\n",
      "2020-06-24 15:38:40,547-INFO: epoch: 17, iter: 140, lr: 0.000500, 'loss': 1.293276, 'acc': 1.0, time: 0.032\n",
      "2020-06-24 15:38:41,324-INFO: epoch: 18, iter: 150, lr: 0.000500, 'loss': 1.00831, 'acc': 1.0, time: 0.029\n",
      "2020-06-24 15:38:42,574-INFO: epoch: 20, iter: 160, lr: 0.000500, 'loss': 1.014649, 'acc': 1.0, time: 0.494\n",
      "2020-06-24 15:38:43,349-INFO: epoch: 21, iter: 170, lr: 0.000500, 'loss': 0.951394, 'acc': 1.0, time: 0.033\n",
      "2020-06-24 15:38:44,133-INFO: epoch: 22, iter: 180, lr: 0.000500, 'loss': 0.785296, 'acc': 1.0, time: 0.033\n",
      "2020-06-24 15:38:44,939-INFO: epoch: 23, iter: 190, lr: 0.000500, 'loss': 0.680649, 'acc': 1.0, time: 0.032\n",
      "2020-06-24 15:38:46,188-INFO: epoch: 25, iter: 200, lr: 0.000500, 'loss': 0.501883, 'acc': 1.0, time: 0.486\n",
      "2020-06-24 15:38:46,611-INFO: Test iter: 200, acc:1.000000, best_acc:1.000000, best_epoch:12, best_batch_id:100, eval_sample_num:9\n",
      "2020-06-24 15:38:47,401-INFO: epoch: 26, iter: 210, lr: 0.000500, 'loss': 0.566919, 'acc': 1.0, time: 0.032\n",
      "2020-06-24 15:38:48,177-INFO: epoch: 27, iter: 220, lr: 0.000500, 'loss': 0.51668, 'acc': 1.0, time: 0.031\n",
      "2020-06-24 15:38:48,949-INFO: epoch: 28, iter: 230, lr: 0.000500, 'loss': 0.415859, 'acc': 1.0, time: 0.030\n",
      "2020-06-24 15:38:50,226-INFO: epoch: 30, iter: 240, lr: 0.000500, 'loss': 0.417609, 'acc': 1.0, time: 0.491\n",
      "2020-06-24 15:38:51,021-INFO: epoch: 31, iter: 250, lr: 0.000500, 'loss': 0.439253, 'acc': 1.0, time: 0.033\n",
      "2020-06-24 15:38:51,822-INFO: epoch: 32, iter: 260, lr: 0.000500, 'loss': 0.344167, 'acc': 1.0, time: 0.031\n",
      "2020-06-24 15:38:52,608-INFO: epoch: 33, iter: 270, lr: 0.000500, 'loss': 0.338178, 'acc': 1.0, time: 0.031\n",
      "2020-06-24 15:38:53,851-INFO: epoch: 35, iter: 280, lr: 0.000500, 'loss': 0.355021, 'acc': 1.0, time: 0.490\n",
      "2020-06-24 15:38:54,633-INFO: epoch: 36, iter: 290, lr: 0.000500, 'loss': 0.331564, 'acc': 1.0, time: 0.034\n",
      "2020-06-24 15:38:55,411-INFO: epoch: 37, iter: 300, lr: 0.000500, 'loss': 0.298979, 'acc': 1.0, time: 0.033\n",
      "2020-06-24 15:38:55,745-INFO: Test iter: 300, acc:1.000000, best_acc:1.000000, best_epoch:12, best_batch_id:100, eval_sample_num:9\n",
      "2020-06-24 15:38:56,549-INFO: epoch: 38, iter: 310, lr: 0.000500, 'loss': 0.251441, 'acc': 1.0, time: 0.030\n",
      "2020-06-24 15:38:57,814-INFO: epoch: 40, iter: 320, lr: 0.000500, 'loss': 0.316385, 'acc': 1.0, time: 0.500\n",
      "2020-06-24 15:38:58,606-INFO: epoch: 41, iter: 330, lr: 0.000500, 'loss': 0.306633, 'acc': 1.0, time: 0.034\n",
      "2020-06-24 15:38:59,394-INFO: epoch: 42, iter: 340, lr: 0.000500, 'loss': 0.284373, 'acc': 1.0, time: 0.033\n",
      "2020-06-24 15:39:00,168-INFO: epoch: 43, iter: 350, lr: 0.000500, 'loss': 0.290583, 'acc': 1.0, time: 0.030\n",
      "2020-06-24 15:39:01,395-INFO: epoch: 45, iter: 360, lr: 0.000500, 'loss': 0.212848, 'acc': 1.0, time: 0.489\n",
      "2020-06-24 15:39:02,179-INFO: epoch: 46, iter: 370, lr: 0.000500, 'loss': 0.221132, 'acc': 1.0, time: 0.034\n",
      "2020-06-24 15:39:03,043-INFO: epoch: 47, iter: 380, lr: 0.000500, 'loss': 0.238432, 'acc': 1.0, time: 0.033\n",
      "2020-06-24 15:39:03,870-INFO: epoch: 48, iter: 390, lr: 0.000500, 'loss': 0.236178, 'acc': 1.0, time: 0.036\n",
      "2020-06-24 15:39:05,121-INFO: epoch: 50, iter: 400, lr: 0.000500, 'loss': 0.227188, 'acc': 1.0, time: 0.492\n",
      "2020-06-24 15:39:05,455-INFO: Test iter: 400, acc:1.000000, best_acc:1.000000, best_epoch:12, best_batch_id:100, eval_sample_num:9\n",
      "2020-06-24 15:39:05,948-INFO: Already save model in ./output/rec_CRNN/iter_epoch_50\n",
      "2020-06-24 15:39:06,507-INFO: epoch: 51, iter: 410, lr: 0.000500, 'loss': 0.191559, 'acc': 1.0, time: 0.033\n",
      "2020-06-24 15:39:07,282-INFO: epoch: 52, iter: 420, lr: 0.000499, 'loss': 0.163906, 'acc': 1.0, time: 0.031\n",
      "2020-06-24 15:39:08,067-INFO: epoch: 53, iter: 430, lr: 0.000499, 'loss': 0.211725, 'acc': 1.0, time: 0.032\n",
      "2020-06-24 15:39:09,345-INFO: epoch: 55, iter: 440, lr: 0.000499, 'loss': 0.173096, 'acc': 1.0, time: 0.497\n",
      "2020-06-24 15:39:10,137-INFO: epoch: 56, iter: 450, lr: 0.000499, 'loss': 0.163478, 'acc': 1.0, time: 0.033\n",
      "2020-06-24 15:39:10,920-INFO: epoch: 57, iter: 460, lr: 0.000499, 'loss': 0.162209, 'acc': 1.0, time: 0.031\n",
      "2020-06-24 15:39:11,702-INFO: epoch: 58, iter: 470, lr: 0.000499, 'loss': 0.154737, 'acc': 1.0, time: 0.031\n",
      "2020-06-24 15:39:12,927-INFO: epoch: 60, iter: 480, lr: 0.000499, 'loss': 0.154737, 'acc': 1.0, time: 0.481\n",
      "2020-06-24 15:39:13,714-INFO: epoch: 61, iter: 490, lr: 0.000499, 'loss': 0.138177, 'acc': 1.0, time: 0.034\n",
      "2020-06-24 15:39:14,485-INFO: epoch: 62, iter: 500, lr: 0.000499, 'loss': 0.133043, 'acc': 1.0, time: 0.030\n",
      "2020-06-24 15:39:14,832-INFO: Test iter: 500, acc:1.000000, best_acc:1.000000, best_epoch:12, best_batch_id:100, eval_sample_num:9\n",
      "2020-06-24 15:39:15,619-INFO: epoch: 63, iter: 510, lr: 0.000499, 'loss': 0.132612, 'acc': 1.0, time: 0.031\n",
      "2020-06-24 15:39:16,860-INFO: epoch: 65, iter: 520, lr: 0.000499, 'loss': 0.180547, 'acc': 1.0, time: 0.491\n",
      "2020-06-24 15:39:17,636-INFO: epoch: 66, iter: 530, lr: 0.000499, 'loss': 0.275176, 'acc': 1.0, time: 0.033\n",
      "2020-06-24 15:39:18,417-INFO: epoch: 67, iter: 540, lr: 0.000499, 'loss': 0.386554, 'acc': 1.0, time: 0.030\n",
      "2020-06-24 15:39:19,206-INFO: epoch: 68, iter: 550, lr: 0.000499, 'loss': 0.400478, 'acc': 1.0, time: 0.030\n",
      "2020-06-24 15:39:20,460-INFO: epoch: 70, iter: 560, lr: 0.000499, 'loss': 0.537797, 'acc': 1.0, time: 0.492\n",
      "2020-06-24 15:39:21,246-INFO: epoch: 71, iter: 570, lr: 0.000499, 'loss': 0.537797, 'acc': 1.0, time: 0.040\n",
      "2020-06-24 15:39:22,044-INFO: epoch: 72, iter: 580, lr: 0.000499, 'loss': 0.392297, 'acc': 1.0, time: 0.032\n",
      "2020-06-24 15:39:22,835-INFO: epoch: 73, iter: 590, lr: 0.000499, 'loss': 0.321742, 'acc': 1.0, time: 0.031\n",
      "2020-06-24 15:39:24,079-INFO: epoch: 75, iter: 600, lr: 0.000499, 'loss': 0.262638, 'acc': 1.0, time: 0.487\n",
      "2020-06-24 15:39:24,419-INFO: Test iter: 600, acc:1.000000, best_acc:1.000000, best_epoch:12, best_batch_id:100, eval_sample_num:9\n",
      "2020-06-24 15:39:25,188-INFO: epoch: 76, iter: 610, lr: 0.000499, 'loss': 0.22737, 'acc': 1.0, time: 0.032\n",
      "2020-06-24 15:39:25,967-INFO: epoch: 77, iter: 620, lr: 0.000499, 'loss': 0.178173, 'acc': 1.0, time: 0.030\n",
      "2020-06-24 15:39:26,750-INFO: epoch: 78, iter: 630, lr: 0.000499, 'loss': 0.165676, 'acc': 1.0, time: 0.031\n",
      "2020-06-24 15:39:27,978-INFO: epoch: 80, iter: 640, lr: 0.000499, 'loss': 0.150712, 'acc': 1.0, time: 0.483\n",
      "2020-06-24 15:39:28,767-INFO: epoch: 81, iter: 650, lr: 0.000499, 'loss': 0.154548, 'acc': 1.0, time: 0.036\n",
      "2020-06-24 15:39:29,563-INFO: epoch: 82, iter: 660, lr: 0.000499, 'loss': 0.160134, 'acc': 1.0, time: 0.035\n",
      "2020-06-24 15:39:30,380-INFO: epoch: 83, iter: 670, lr: 0.000499, 'loss': 0.179173, 'acc': 1.0, time: 0.030\n",
      "2020-06-24 15:39:31,643-INFO: epoch: 85, iter: 680, lr: 0.000499, 'loss': 0.157842, 'acc': 1.0, time: 0.505\n",
      "2020-06-24 15:39:32,467-INFO: epoch: 86, iter: 690, lr: 0.000499, 'loss': 0.14972, 'acc': 1.0, time: 0.039\n",
      "2020-06-24 15:39:33,254-INFO: epoch: 87, iter: 700, lr: 0.000498, 'loss': 0.147684, 'acc': 1.0, time: 0.032\n",
      "2020-06-24 15:39:33,598-INFO: Test iter: 700, acc:1.000000, best_acc:1.000000, best_epoch:12, best_batch_id:100, eval_sample_num:9\n",
      "2020-06-24 15:39:34,381-INFO: epoch: 88, iter: 710, lr: 0.000498, 'loss': 0.143191, 'acc': 1.0, time: 0.029\n",
      "2020-06-24 15:39:35,651-INFO: epoch: 90, iter: 720, lr: 0.000498, 'loss': 0.127973, 'acc': 1.0, time: 0.491\n",
      "2020-06-24 15:39:36,430-INFO: epoch: 91, iter: 730, lr: 0.000498, 'loss': 0.142689, 'acc': 1.0, time: 0.032\n",
      "2020-06-24 15:39:37,212-INFO: epoch: 92, iter: 740, lr: 0.000498, 'loss': 0.112797, 'acc': 1.0, time: 0.031\n",
      "2020-06-24 15:39:37,995-INFO: epoch: 93, iter: 750, lr: 0.000498, 'loss': 0.083817, 'acc': 1.0, time: 0.030\n",
      "2020-06-24 15:39:39,249-INFO: epoch: 95, iter: 760, lr: 0.000498, 'loss': 0.085867, 'acc': 1.0, time: 0.492\n",
      "2020-06-24 15:39:40,047-INFO: epoch: 96, iter: 770, lr: 0.000498, 'loss': 0.087783, 'acc': 1.0, time: 0.032\n",
      "2020-06-24 15:39:40,835-INFO: epoch: 97, iter: 780, lr: 0.000498, 'loss': 0.094168, 'acc': 1.0, time: 0.029\n",
      "2020-06-24 15:39:41,604-INFO: epoch: 98, iter: 790, lr: 0.000498, 'loss': 0.099368, 'acc': 1.0, time: 0.030\n",
      "2020-06-24 15:39:42,839-INFO: epoch: 100, iter: 800, lr: 0.000498, 'loss': 0.099368, 'acc': 1.0, time: 0.491\n",
      "2020-06-24 15:39:43,188-INFO: Test iter: 800, acc:1.000000, best_acc:1.000000, best_epoch:12, best_batch_id:100, eval_sample_num:9\n",
      "2020-06-24 15:39:43,677-INFO: Already save model in ./output/rec_CRNN/iter_epoch_100\n",
      "2020-06-24 15:39:44,241-INFO: epoch: 101, iter: 810, lr: 0.000498, 'loss': 0.112203, 'acc': 1.0, time: 0.034\n",
      "2020-06-24 15:39:45,025-INFO: epoch: 102, iter: 820, lr: 0.000498, 'loss': 0.084466, 'acc': 1.0, time: 0.032\n",
      "2020-06-24 15:39:45,817-INFO: epoch: 103, iter: 830, lr: 0.000498, 'loss': 0.077138, 'acc': 1.0, time: 0.030\n",
      "2020-06-24 15:39:47,055-INFO: epoch: 105, iter: 840, lr: 0.000498, 'loss': 0.08104, 'acc': 1.0, time: 0.492\n",
      "2020-06-24 15:39:47,864-INFO: epoch: 106, iter: 850, lr: 0.000498, 'loss': 0.077895, 'acc': 1.0, time: 0.032\n",
      "2020-06-24 15:39:48,646-INFO: epoch: 107, iter: 860, lr: 0.000498, 'loss': 0.099295, 'acc': 1.0, time: 0.031\n",
      "2020-06-24 15:39:49,430-INFO: epoch: 108, iter: 870, lr: 0.000498, 'loss': 0.172522, 'acc': 1.0, time: 0.030\n",
      "2020-06-24 15:39:50,688-INFO: epoch: 110, iter: 880, lr: 0.000498, 'loss': 0.309139, 'acc': 1.0, time: 0.499\n",
      "2020-06-24 15:39:51,467-INFO: epoch: 111, iter: 890, lr: 0.000498, 'loss': 0.314082, 'acc': 1.0, time: 0.034\n",
      "2020-06-24 15:39:52,255-INFO: epoch: 112, iter: 900, lr: 0.000498, 'loss': 0.22469, 'acc': 1.0, time: 0.030\n",
      "2020-06-24 15:39:52,682-INFO: Test iter: 900, acc:1.000000, best_acc:1.000000, best_epoch:12, best_batch_id:100, eval_sample_num:9\n",
      "2020-06-24 15:39:53,476-INFO: epoch: 113, iter: 910, lr: 0.000498, 'loss': 0.197283, 'acc': 1.0, time: 0.030\n",
      "2020-06-24 15:39:54,721-INFO: epoch: 115, iter: 920, lr: 0.000497, 'loss': 0.168531, 'acc': 1.0, time: 0.493\n",
      "2020-06-24 15:39:55,511-INFO: epoch: 116, iter: 930, lr: 0.000497, 'loss': 0.125871, 'acc': 1.0, time: 0.033\n",
      "2020-06-24 15:39:56,303-INFO: epoch: 117, iter: 940, lr: 0.000497, 'loss': 0.137507, 'acc': 1.0, time: 0.030\n",
      "2020-06-24 15:39:57,142-INFO: epoch: 118, iter: 950, lr: 0.000497, 'loss': 0.127755, 'acc': 1.0, time: 0.030\n",
      "2020-06-24 15:39:58,416-INFO: epoch: 120, iter: 960, lr: 0.000497, 'loss': 0.122, 'acc': 1.0, time: 0.511\n",
      "2020-06-24 15:39:59,218-INFO: epoch: 121, iter: 970, lr: 0.000497, 'loss': 0.11461, 'acc': 1.0, time: 0.032\n",
      "2020-06-24 15:40:00,003-INFO: epoch: 122, iter: 980, lr: 0.000497, 'loss': 0.107972, 'acc': 1.0, time: 0.030\n",
      "2020-06-24 15:40:00,777-INFO: epoch: 123, iter: 990, lr: 0.000497, 'loss': 0.089401, 'acc': 1.0, time: 0.030\n",
      "2020-06-24 15:40:02,030-INFO: epoch: 125, iter: 1000, lr: 0.000497, 'loss': 0.085014, 'acc': 1.0, time: 0.503\n",
      "2020-06-24 15:40:02,366-INFO: Test iter: 1000, acc:1.000000, best_acc:1.000000, best_epoch:12, best_batch_id:100, eval_sample_num:9\n",
      "2020-06-24 15:40:03,155-INFO: epoch: 126, iter: 1010, lr: 0.000497, 'loss': 0.082029, 'acc': 1.0, time: 0.033\n",
      "2020-06-24 15:40:03,930-INFO: epoch: 127, iter: 1020, lr: 0.000497, 'loss': 0.075134, 'acc': 1.0, time: 0.030\n",
      "2020-06-24 15:40:04,696-INFO: epoch: 128, iter: 1030, lr: 0.000497, 'loss': 0.074091, 'acc': 1.0, time: 0.029\n",
      "2020-06-24 15:40:05,944-INFO: epoch: 130, iter: 1040, lr: 0.000497, 'loss': 0.068363, 'acc': 1.0, time: 0.499\n",
      "2020-06-24 15:40:06,729-INFO: epoch: 131, iter: 1050, lr: 0.000497, 'loss': 0.061365, 'acc': 1.0, time: 0.033\n",
      "2020-06-24 15:40:07,508-INFO: epoch: 132, iter: 1060, lr: 0.000497, 'loss': 0.062786, 'acc': 1.0, time: 0.030\n",
      "2020-06-24 15:40:08,282-INFO: epoch: 133, iter: 1070, lr: 0.000497, 'loss': 0.064957, 'acc': 1.0, time: 0.029\n",
      "2020-06-24 15:40:09,535-INFO: epoch: 135, iter: 1080, lr: 0.000496, 'loss': 0.060376, 'acc': 1.0, time: 0.494\n",
      "2020-06-24 15:40:10,345-INFO: epoch: 136, iter: 1090, lr: 0.000496, 'loss': 0.056701, 'acc': 1.0, time: 0.035\n",
      "2020-06-24 15:40:11,134-INFO: epoch: 137, iter: 1100, lr: 0.000496, 'loss': 0.062944, 'acc': 1.0, time: 0.033\n",
      "2020-06-24 15:40:11,475-INFO: Test iter: 1100, acc:1.000000, best_acc:1.000000, best_epoch:12, best_batch_id:100, eval_sample_num:9\n",
      "2020-06-24 15:40:12,268-INFO: epoch: 138, iter: 1110, lr: 0.000496, 'loss': 0.060459, 'acc': 1.0, time: 0.029\n",
      "2020-06-24 15:40:13,490-INFO: epoch: 140, iter: 1120, lr: 0.000496, 'loss': 0.070161, 'acc': 1.0, time: 0.484\n",
      "2020-06-24 15:40:14,283-INFO: epoch: 141, iter: 1130, lr: 0.000496, 'loss': 0.073724, 'acc': 1.0, time: 0.032\n",
      "2020-06-24 15:40:15,050-INFO: epoch: 142, iter: 1140, lr: 0.000496, 'loss': 0.057279, 'acc': 1.0, time: 0.030\n",
      "2020-06-24 15:40:15,818-INFO: epoch: 143, iter: 1150, lr: 0.000496, 'loss': 0.049818, 'acc': 1.0, time: 0.030\n",
      "2020-06-24 15:40:17,049-INFO: epoch: 145, iter: 1160, lr: 0.000496, 'loss': 0.048043, 'acc': 1.0, time: 0.494\n",
      "2020-06-24 15:40:17,836-INFO: epoch: 146, iter: 1170, lr: 0.000496, 'loss': 0.048931, 'acc': 1.0, time: 0.033\n",
      "2020-06-24 15:40:18,607-INFO: epoch: 147, iter: 1180, lr: 0.000496, 'loss': 0.051235, 'acc': 1.0, time: 0.031\n",
      "2020-06-24 15:40:19,382-INFO: epoch: 148, iter: 1190, lr: 0.000496, 'loss': 0.048555, 'acc': 1.0, time: 0.030\n",
      "2020-06-24 15:40:20,638-INFO: epoch: 150, iter: 1200, lr: 0.000496, 'loss': 0.042524, 'acc': 1.0, time: 0.504\n",
      "2020-06-24 15:40:20,970-INFO: Test iter: 1200, acc:1.000000, best_acc:1.000000, best_epoch:12, best_batch_id:100, eval_sample_num:9\n",
      "2020-06-24 15:40:21,457-INFO: Already save model in ./output/rec_CRNN/iter_epoch_150\n",
      "2020-06-24 15:40:22,037-INFO: epoch: 151, iter: 1210, lr: 0.000496, 'loss': 0.043487, 'acc': 1.0, time: 0.033\n",
      "2020-06-24 15:40:22,818-INFO: epoch: 152, iter: 1220, lr: 0.000495, 'loss': 0.049937, 'acc': 1.0, time: 0.031\n",
      "2020-06-24 15:40:23,600-INFO: epoch: 153, iter: 1230, lr: 0.000495, 'loss': 0.048677, 'acc': 1.0, time: 0.032\n",
      "2020-06-24 15:40:24,846-INFO: epoch: 155, iter: 1240, lr: 0.000495, 'loss': 0.042905, 'acc': 1.0, time: 0.491\n",
      "2020-06-24 15:40:25,626-INFO: epoch: 156, iter: 1250, lr: 0.000495, 'loss': 0.039425, 'acc': 1.0, time: 0.033\n",
      "2020-06-24 15:40:26,416-INFO: epoch: 157, iter: 1260, lr: 0.000495, 'loss': 0.040605, 'acc': 1.0, time: 0.030\n",
      "2020-06-24 15:40:27,193-INFO: epoch: 158, iter: 1270, lr: 0.000495, 'loss': 0.040999, 'acc': 1.0, time: 0.031\n",
      "2020-06-24 15:40:28,459-INFO: epoch: 160, iter: 1280, lr: 0.000495, 'loss': 0.046477, 'acc': 1.0, time: 0.491\n",
      "2020-06-24 15:40:29,249-INFO: epoch: 161, iter: 1290, lr: 0.000495, 'loss': 0.046378, 'acc': 1.0, time: 0.033\n",
      "2020-06-24 15:40:30,049-INFO: epoch: 162, iter: 1300, lr: 0.000495, 'loss': 0.035594, 'acc': 1.0, time: 0.030\n",
      "2020-06-24 15:40:30,392-INFO: Test iter: 1300, acc:1.000000, best_acc:1.000000, best_epoch:12, best_batch_id:100, eval_sample_num:9\n",
      "2020-06-24 15:40:31,182-INFO: epoch: 163, iter: 1310, lr: 0.000495, 'loss': 0.040918, 'acc': 1.0, time: 0.030\n",
      "2020-06-24 15:40:32,432-INFO: epoch: 165, iter: 1320, lr: 0.000495, 'loss': 0.039238, 'acc': 1.0, time: 0.492\n",
      "2020-06-24 15:40:33,227-INFO: epoch: 166, iter: 1330, lr: 0.000495, 'loss': 0.032064, 'acc': 1.0, time: 0.033\n",
      "2020-06-24 15:40:34,003-INFO: epoch: 167, iter: 1340, lr: 0.000494, 'loss': 0.034872, 'acc': 1.0, time: 0.032\n",
      "2020-06-24 15:40:34,791-INFO: epoch: 168, iter: 1350, lr: 0.000494, 'loss': 0.036717, 'acc': 1.0, time: 0.031\n",
      "2020-06-24 15:40:36,055-INFO: epoch: 170, iter: 1360, lr: 0.000494, 'loss': 0.041359, 'acc': 1.0, time: 0.503\n",
      "2020-06-24 15:40:36,835-INFO: epoch: 171, iter: 1370, lr: 0.000494, 'loss': 0.037904, 'acc': 1.0, time: 0.032\n",
      "2020-06-24 15:40:37,613-INFO: epoch: 172, iter: 1380, lr: 0.000494, 'loss': 0.035192, 'acc': 1.0, time: 0.032\n",
      "2020-06-24 15:40:38,395-INFO: epoch: 173, iter: 1390, lr: 0.000494, 'loss': 0.035564, 'acc': 1.0, time: 0.030\n",
      "2020-06-24 15:40:39,630-INFO: epoch: 175, iter: 1400, lr: 0.000494, 'loss': 0.037395, 'acc': 1.0, time: 0.489\n",
      "2020-06-24 15:40:39,974-INFO: Test iter: 1400, acc:1.000000, best_acc:1.000000, best_epoch:12, best_batch_id:100, eval_sample_num:9\n",
      "2020-06-24 15:40:40,768-INFO: epoch: 176, iter: 1410, lr: 0.000494, 'loss': 0.036473, 'acc': 1.0, time: 0.033\n",
      "2020-06-24 15:40:41,540-INFO: epoch: 177, iter: 1420, lr: 0.000494, 'loss': 0.031753, 'acc': 1.0, time: 0.031\n",
      "2020-06-24 15:40:42,319-INFO: epoch: 178, iter: 1430, lr: 0.000494, 'loss': 0.03007, 'acc': 1.0, time: 0.030\n",
      "2020-06-24 15:40:43,553-INFO: epoch: 180, iter: 1440, lr: 0.000494, 'loss': 0.027705, 'acc': 1.0, time: 0.490\n",
      "2020-06-24 15:40:44,346-INFO: epoch: 181, iter: 1450, lr: 0.000494, 'loss': 0.034036, 'acc': 1.0, time: 0.036\n",
      "2020-06-24 15:40:45,111-INFO: epoch: 182, iter: 1460, lr: 0.000493, 'loss': 0.034383, 'acc': 1.0, time: 0.031\n",
      "2020-06-24 15:40:45,890-INFO: epoch: 183, iter: 1470, lr: 0.000493, 'loss': 0.03388, 'acc': 1.0, time: 0.030\n",
      "2020-06-24 15:40:47,135-INFO: epoch: 185, iter: 1480, lr: 0.000493, 'loss': 0.035538, 'acc': 1.0, time: 0.493\n",
      "2020-06-24 15:40:47,959-INFO: epoch: 186, iter: 1490, lr: 0.000493, 'loss': 0.034269, 'acc': 1.0, time: 0.032\n",
      "2020-06-24 15:40:48,743-INFO: epoch: 187, iter: 1500, lr: 0.000493, 'loss': 0.033955, 'acc': 1.0, time: 0.031\n",
      "2020-06-24 15:40:49,159-INFO: Test iter: 1500, acc:1.000000, best_acc:1.000000, best_epoch:12, best_batch_id:100, eval_sample_num:9\n",
      "2020-06-24 15:40:50,019-INFO: epoch: 188, iter: 1510, lr: 0.000493, 'loss': 0.034235, 'acc': 1.0, time: 0.034\n",
      "2020-06-24 15:40:51,299-INFO: epoch: 190, iter: 1520, lr: 0.000493, 'loss': 0.034431, 'acc': 1.0, time: 0.506\n",
      "2020-06-24 15:40:52,105-INFO: epoch: 191, iter: 1530, lr: 0.000493, 'loss': 0.033737, 'acc': 1.0, time: 0.034\n",
      "2020-06-24 15:40:52,882-INFO: epoch: 192, iter: 1540, lr: 0.000493, 'loss': 0.031002, 'acc': 1.0, time: 0.030\n",
      "2020-06-24 15:40:53,658-INFO: epoch: 193, iter: 1550, lr: 0.000493, 'loss': 0.034841, 'acc': 1.0, time: 0.030\n",
      "2020-06-24 15:40:54,913-INFO: epoch: 195, iter: 1560, lr: 0.000493, 'loss': 0.034324, 'acc': 1.0, time: 0.501\n",
      "2020-06-24 15:40:55,699-INFO: epoch: 196, iter: 1570, lr: 0.000493, 'loss': 0.029329, 'acc': 1.0, time: 0.032\n",
      "2020-06-24 15:40:56,493-INFO: epoch: 197, iter: 1580, lr: 0.000492, 'loss': 0.030938, 'acc': 1.0, time: 0.031\n",
      "2020-06-24 15:40:57,271-INFO: epoch: 198, iter: 1590, lr: 0.000492, 'loss': 0.02853, 'acc': 1.0, time: 0.030\n",
      "2020-06-24 15:40:58,524-INFO: epoch: 200, iter: 1600, lr: 0.000492, 'loss': 0.026243, 'acc': 1.0, time: 0.500\n",
      "2020-06-24 15:40:58,870-INFO: Test iter: 1600, acc:1.000000, best_acc:1.000000, best_epoch:12, best_batch_id:100, eval_sample_num:9\n",
      "2020-06-24 15:40:59,352-INFO: Already save model in ./output/rec_CRNN/iter_epoch_200\n",
      "2020-06-24 15:40:59,933-INFO: epoch: 201, iter: 1610, lr: 0.000492, 'loss': 0.032107, 'acc': 1.0, time: 0.034\n",
      "2020-06-24 15:41:00,713-INFO: epoch: 202, iter: 1620, lr: 0.000492, 'loss': 0.029803, 'acc': 1.0, time: 0.030\n",
      "2020-06-24 15:41:01,500-INFO: epoch: 203, iter: 1630, lr: 0.000492, 'loss': 0.026894, 'acc': 1.0, time: 0.030\n",
      "2020-06-24 15:41:02,752-INFO: epoch: 205, iter: 1640, lr: 0.000492, 'loss': 0.02898, 'acc': 1.0, time: 0.489\n",
      "2020-06-24 15:41:03,538-INFO: epoch: 206, iter: 1650, lr: 0.000492, 'loss': 0.029291, 'acc': 1.0, time: 0.033\n",
      "2020-06-24 15:41:04,326-INFO: epoch: 207, iter: 1660, lr: 0.000492, 'loss': 0.028126, 'acc': 1.0, time: 0.033\n",
      "2020-06-24 15:41:05,121-INFO: epoch: 208, iter: 1670, lr: 0.000492, 'loss': 0.025054, 'acc': 1.0, time: 0.032\n",
      "2020-06-24 15:41:06,373-INFO: epoch: 210, iter: 1680, lr: 0.000491, 'loss': 0.025054, 'acc': 1.0, time: 0.496\n",
      "2020-06-24 15:41:07,147-INFO: epoch: 211, iter: 1690, lr: 0.000491, 'loss': 0.025729, 'acc': 1.0, time: 0.034\n",
      "2020-06-24 15:41:07,931-INFO: epoch: 212, iter: 1700, lr: 0.000491, 'loss': 0.02602, 'acc': 1.0, time: 0.031\n",
      "2020-06-24 15:41:08,255-INFO: Test iter: 1700, acc:1.000000, best_acc:1.000000, best_epoch:12, best_batch_id:100, eval_sample_num:9\n",
      "2020-06-24 15:41:09,048-INFO: epoch: 213, iter: 1710, lr: 0.000491, 'loss': 0.02602, 'acc': 1.0, time: 0.032\n",
      "2020-06-24 15:41:10,297-INFO: epoch: 215, iter: 1720, lr: 0.000491, 'loss': 0.023953, 'acc': 1.0, time: 0.500\n",
      "2020-06-24 15:41:11,108-INFO: epoch: 216, iter: 1730, lr: 0.000491, 'loss': 0.027526, 'acc': 1.0, time: 0.034\n",
      "2020-06-24 15:41:11,908-INFO: epoch: 217, iter: 1740, lr: 0.000491, 'loss': 0.027063, 'acc': 1.0, time: 0.031\n",
      "2020-06-24 15:41:12,699-INFO: epoch: 218, iter: 1750, lr: 0.000491, 'loss': 0.026472, 'acc': 1.0, time: 0.029\n",
      "2020-06-24 15:41:13,935-INFO: epoch: 220, iter: 1760, lr: 0.000491, 'loss': 0.029801, 'acc': 1.0, time: 0.490\n",
      "2020-06-24 15:41:14,729-INFO: epoch: 221, iter: 1770, lr: 0.000491, 'loss': 0.025383, 'acc': 1.0, time: 0.032\n",
      "2020-06-24 15:41:15,502-INFO: epoch: 222, iter: 1780, lr: 0.000490, 'loss': 0.022383, 'acc': 1.0, time: 0.031\n",
      "2020-06-24 15:41:16,284-INFO: epoch: 223, iter: 1790, lr: 0.000490, 'loss': 0.021144, 'acc': 1.0, time: 0.030\n",
      "2020-06-24 15:41:17,519-INFO: epoch: 225, iter: 1800, lr: 0.000490, 'loss': 0.022575, 'acc': 1.0, time: 0.494\n",
      "2020-06-24 15:41:17,860-INFO: Test iter: 1800, acc:1.000000, best_acc:1.000000, best_epoch:12, best_batch_id:100, eval_sample_num:9\n",
      "2020-06-24 15:41:18,636-INFO: epoch: 226, iter: 1810, lr: 0.000490, 'loss': 0.022883, 'acc': 1.0, time: 0.033\n",
      "2020-06-24 15:41:19,416-INFO: epoch: 227, iter: 1820, lr: 0.000490, 'loss': 0.021569, 'acc': 1.0, time: 0.031\n",
      "2020-06-24 15:41:20,191-INFO: epoch: 228, iter: 1830, lr: 0.000490, 'loss': 0.024979, 'acc': 1.0, time: 0.030\n",
      "2020-06-24 15:41:21,420-INFO: epoch: 230, iter: 1840, lr: 0.000490, 'loss': 0.026798, 'acc': 1.0, time: 0.482\n",
      "2020-06-24 15:41:22,225-INFO: epoch: 231, iter: 1850, lr: 0.000490, 'loss': 0.02232, 'acc': 1.0, time: 0.033\n",
      "2020-06-24 15:41:23,024-INFO: epoch: 232, iter: 1860, lr: 0.000489, 'loss': 0.02232, 'acc': 1.0, time: 0.034\n",
      "2020-06-24 15:41:23,839-INFO: epoch: 233, iter: 1870, lr: 0.000489, 'loss': 0.023539, 'acc': 1.0, time: 0.030\n",
      "2020-06-24 15:41:25,079-INFO: epoch: 235, iter: 1880, lr: 0.000489, 'loss': 0.024285, 'acc': 1.0, time: 0.496\n",
      "2020-06-24 15:41:25,859-INFO: epoch: 236, iter: 1890, lr: 0.000489, 'loss': 0.025922, 'acc': 1.0, time: 0.032\n",
      "2020-06-24 15:41:26,640-INFO: epoch: 237, iter: 1900, lr: 0.000489, 'loss': 0.02369, 'acc': 1.0, time: 0.030\n",
      "2020-06-24 15:41:26,971-INFO: Test iter: 1900, acc:1.000000, best_acc:1.000000, best_epoch:12, best_batch_id:100, eval_sample_num:9\n",
      "2020-06-24 15:41:27,756-INFO: epoch: 238, iter: 1910, lr: 0.000489, 'loss': 0.022269, 'acc': 1.0, time: 0.030\n",
      "2020-06-24 15:41:29,011-INFO: epoch: 240, iter: 1920, lr: 0.000489, 'loss': 0.022522, 'acc': 1.0, time: 0.499\n",
      "2020-06-24 15:41:29,791-INFO: epoch: 241, iter: 1930, lr: 0.000489, 'loss': 0.02386, 'acc': 1.0, time: 0.033\n",
      "2020-06-24 15:41:30,562-INFO: epoch: 242, iter: 1940, lr: 0.000488, 'loss': 0.022944, 'acc': 1.0, time: 0.030\n",
      "2020-06-24 15:41:31,341-INFO: epoch: 243, iter: 1950, lr: 0.000488, 'loss': 0.020482, 'acc': 1.0, time: 0.030\n",
      "2020-06-24 15:41:32,598-INFO: epoch: 245, iter: 1960, lr: 0.000488, 'loss': 0.020359, 'acc': 1.0, time: 0.491\n",
      "2020-06-24 15:41:33,398-INFO: epoch: 246, iter: 1970, lr: 0.000488, 'loss': 0.021728, 'acc': 1.0, time: 0.035\n",
      "2020-06-24 15:41:34,180-INFO: epoch: 247, iter: 1980, lr: 0.000488, 'loss': 0.02371, 'acc': 1.0, time: 0.031\n",
      "2020-06-24 15:41:34,979-INFO: epoch: 248, iter: 1990, lr: 0.000488, 'loss': 0.021898, 'acc': 1.0, time: 0.033\n",
      "2020-06-24 15:41:36,246-INFO: epoch: 250, iter: 2000, lr: 0.000488, 'loss': 0.023631, 'acc': 1.0, time: 0.503\n",
      "2020-06-24 15:41:36,587-INFO: Test iter: 2000, acc:1.000000, best_acc:1.000000, best_epoch:12, best_batch_id:100, eval_sample_num:9\n",
      "2020-06-24 15:41:37,066-INFO: Already save model in ./output/rec_CRNN/iter_epoch_250\n",
      "2020-06-24 15:41:37,632-INFO: epoch: 251, iter: 2010, lr: 0.000488, 'loss': 0.020905, 'acc': 1.0, time: 0.033\n",
      "2020-06-24 15:41:38,418-INFO: epoch: 252, iter: 2020, lr: 0.000488, 'loss': 0.022296, 'acc': 1.0, time: 0.030\n",
      "2020-06-24 15:41:39,202-INFO: epoch: 253, iter: 2030, lr: 0.000488, 'loss': 0.02254, 'acc': 1.0, time: 0.029\n",
      "2020-06-24 15:41:40,448-INFO: epoch: 255, iter: 2040, lr: 0.000487, 'loss': 0.022927, 'acc': 1.0, time: 0.497\n",
      "2020-06-24 15:41:41,228-INFO: epoch: 256, iter: 2050, lr: 0.000487, 'loss': 0.022671, 'acc': 1.0, time: 0.033\n",
      "2020-06-24 15:41:41,997-INFO: epoch: 257, iter: 2060, lr: 0.000487, 'loss': 0.019575, 'acc': 1.0, time: 0.030\n",
      "2020-06-24 15:41:42,776-INFO: epoch: 258, iter: 2070, lr: 0.000487, 'loss': 0.022289, 'acc': 1.0, time: 0.031\n",
      "2020-06-24 15:41:44,091-INFO: epoch: 260, iter: 2080, lr: 0.000487, 'loss': 0.023765, 'acc': 1.0, time: 0.492\n",
      "2020-06-24 15:41:44,914-INFO: epoch: 261, iter: 2090, lr: 0.000487, 'loss': 0.021587, 'acc': 1.0, time: 0.033\n",
      "2020-06-24 15:41:45,695-INFO: epoch: 262, iter: 2100, lr: 0.000487, 'loss': 0.019432, 'acc': 1.0, time: 0.031\n",
      "2020-06-24 15:41:46,137-INFO: Test iter: 2100, acc:1.000000, best_acc:1.000000, best_epoch:12, best_batch_id:100, eval_sample_num:9\n",
      "2020-06-24 15:41:46,934-INFO: epoch: 263, iter: 2110, lr: 0.000487, 'loss': 0.019529, 'acc': 1.0, time: 0.032\n",
      "2020-06-24 15:41:48,221-INFO: epoch: 265, iter: 2120, lr: 0.000486, 'loss': 0.020045, 'acc': 1.0, time: 0.515\n",
      "2020-06-24 15:41:49,020-INFO: epoch: 266, iter: 2130, lr: 0.000486, 'loss': 0.019873, 'acc': 1.0, time: 0.034\n",
      "2020-06-24 15:41:49,816-INFO: epoch: 267, iter: 2140, lr: 0.000486, 'loss': 0.023265, 'acc': 1.0, time: 0.031\n",
      "2020-06-24 15:41:50,597-INFO: epoch: 268, iter: 2150, lr: 0.000486, 'loss': 0.022306, 'acc': 1.0, time: 0.032\n",
      "2020-06-24 15:41:51,875-INFO: epoch: 270, iter: 2160, lr: 0.000486, 'loss': 0.018856, 'acc': 1.0, time: 0.510\n",
      "2020-06-24 15:41:52,661-INFO: epoch: 271, iter: 2170, lr: 0.000486, 'loss': 0.020919, 'acc': 1.0, time: 0.033\n",
      "2020-06-24 15:41:53,443-INFO: epoch: 272, iter: 2180, lr: 0.000485, 'loss': 0.021248, 'acc': 1.0, time: 0.031\n",
      "2020-06-24 15:41:54,261-INFO: epoch: 273, iter: 2190, lr: 0.000485, 'loss': 0.021072, 'acc': 1.0, time: 0.030\n",
      "2020-06-24 15:41:55,509-INFO: epoch: 275, iter: 2200, lr: 0.000485, 'loss': 0.020602, 'acc': 1.0, time: 0.491\n",
      "2020-06-24 15:41:55,852-INFO: Test iter: 2200, acc:1.000000, best_acc:1.000000, best_epoch:12, best_batch_id:100, eval_sample_num:9\n",
      "2020-06-24 15:41:56,641-INFO: epoch: 276, iter: 2210, lr: 0.000485, 'loss': 0.020356, 'acc': 1.0, time: 0.032\n",
      "2020-06-24 15:41:57,430-INFO: epoch: 277, iter: 2220, lr: 0.000485, 'loss': 0.021656, 'acc': 1.0, time: 0.032\n",
      "2020-06-24 15:41:58,208-INFO: epoch: 278, iter: 2230, lr: 0.000485, 'loss': 0.019351, 'acc': 1.0, time: 0.030\n",
      "2020-06-24 15:41:59,454-INFO: epoch: 280, iter: 2240, lr: 0.000485, 'loss': 0.022691, 'acc': 1.0, time: 0.493\n",
      "2020-06-24 15:42:00,244-INFO: epoch: 281, iter: 2250, lr: 0.000485, 'loss': 0.023563, 'acc': 1.0, time: 0.034\n",
      "2020-06-24 15:42:01,027-INFO: epoch: 282, iter: 2260, lr: 0.000484, 'loss': 0.022575, 'acc': 1.0, time: 0.030\n",
      "2020-06-24 15:42:01,799-INFO: epoch: 283, iter: 2270, lr: 0.000484, 'loss': 0.020595, 'acc': 1.0, time: 0.029\n",
      "2020-06-24 15:42:03,050-INFO: epoch: 285, iter: 2280, lr: 0.000484, 'loss': 0.020203, 'acc': 1.0, time: 0.494\n",
      "2020-06-24 15:42:03,839-INFO: epoch: 286, iter: 2290, lr: 0.000484, 'loss': 0.01724, 'acc': 1.0, time: 0.032\n",
      "2020-06-24 15:42:04,629-INFO: epoch: 287, iter: 2300, lr: 0.000484, 'loss': 0.019837, 'acc': 1.0, time: 0.031\n",
      "2020-06-24 15:42:04,962-INFO: Test iter: 2300, acc:1.000000, best_acc:1.000000, best_epoch:12, best_batch_id:100, eval_sample_num:9\n",
      "2020-06-24 15:42:05,744-INFO: epoch: 288, iter: 2310, lr: 0.000484, 'loss': 0.026459, 'acc': 1.0, time: 0.030\n",
      "2020-06-24 15:42:06,995-INFO: epoch: 290, iter: 2320, lr: 0.000484, 'loss': 0.02035, 'acc': 1.0, time: 0.490\n",
      "2020-06-24 15:42:07,791-INFO: epoch: 291, iter: 2330, lr: 0.000484, 'loss': 0.017799, 'acc': 1.0, time: 0.033\n",
      "2020-06-24 15:42:08,584-INFO: epoch: 292, iter: 2340, lr: 0.000483, 'loss': 0.019256, 'acc': 1.0, time: 0.031\n",
      "2020-06-24 15:42:09,358-INFO: epoch: 293, iter: 2350, lr: 0.000483, 'loss': 0.020938, 'acc': 1.0, time: 0.030\n",
      "2020-06-24 15:42:10,607-INFO: epoch: 295, iter: 2360, lr: 0.000483, 'loss': 0.020174, 'acc': 1.0, time: 0.491\n",
      "2020-06-24 15:42:11,412-INFO: epoch: 296, iter: 2370, lr: 0.000483, 'loss': 0.019337, 'acc': 1.0, time: 0.032\n",
      "2020-06-24 15:42:12,202-INFO: epoch: 297, iter: 2380, lr: 0.000483, 'loss': 0.021852, 'acc': 1.0, time: 0.032\n",
      "2020-06-24 15:42:12,996-INFO: epoch: 298, iter: 2390, lr: 0.000483, 'loss': 0.022317, 'acc': 1.0, time: 0.030\n"
     ]
    }
   ],
   "source": [
    "!export PYTHONPATH=. && python3 tools/train.py -c configs/rec/rec_meter_train.yml"
   ]
  },
  {
   "cell_type": "markdown",
   "metadata": {
    "collapsed": false
   },
   "source": [
    "### 3.3 测试识别效果\n",
    "\n",
    "测试单张图像的识别结果"
   ]
  },
  {
   "cell_type": "code",
   "execution_count": 33,
   "metadata": {
    "collapsed": false
   },
   "outputs": [
    {
     "name": "stdout",
     "output_type": "stream",
     "text": [
      "2020-06-24 16:00:20,943-INFO: {'Global': {'algorithm': 'CRNN', 'use_gpu': True, 'epoch_num': 300, 'log_smooth_window': 20, 'print_batch_step': 10, 'save_model_dir': './output/rec_CRNN', 'save_epoch_step': 50, 'eval_batch_step': 100, 'train_batch_size_per_card': 16, 'test_batch_size_per_card': 1, 'image_shape': [3, 32, 100], 'max_text_length': 25, 'character_type': 'en', 'loss_type': 'ctc', 'reader_yml': './configs/rec/rec_meter_reader.yml', 'pretrain_weights': './pretrain_models/rec_mv3_none_bilstm_ctc/best_accuracy', 'checkpoints': './output/rec_CRNN/best_accuracy.pdparams', 'save_inference_dir': None, 'infer_img': './train_data/output_meter/test/img_crop_20200521104928.jpg'}, 'Architecture': {'function': 'ppocr.modeling.architectures.rec_model,RecModel'}, 'Backbone': {'function': 'ppocr.modeling.backbones.rec_mobilenet_v3,MobileNetV3', 'scale': 0.5, 'model_name': 'large'}, 'Head': {'function': 'ppocr.modeling.heads.rec_ctc_head,CTCPredict', 'encoder_type': 'rnn', 'SeqRNN': {'hidden_size': 96}}, 'Loss': {'function': 'ppocr.modeling.losses.rec_ctc_loss,CTCLoss'}, 'Optimizer': {'function': 'ppocr.optimizer,AdamDecay', 'base_lr': 0.0005, 'beta1': 0.9, 'beta2': 0.999, 'decay': {'function': 'cosine_decay', 'step_each_epoch': 20, 'total_epoch': 1000}}, 'TrainReader': {'reader_function': 'ppocr.data.rec.dataset_traversal,SimpleReader', 'num_workers': 8, 'img_set_dir': './train_data/output_meter', 'label_file_path': './train_data/output_meter/train.txt'}, 'EvalReader': {'reader_function': 'ppocr.data.rec.dataset_traversal,SimpleReader', 'img_set_dir': './train_data/output_meter', 'label_file_path': './train_data/output_meter/test.txt'}, 'TestReader': {'reader_function': 'ppocr.data.rec.dataset_traversal,SimpleReader'}}\n",
      "W0624 16:00:21.277468 21142 device_context.cc:252] Please NOTE: device: 0, CUDA Capability: 70, Driver API Version: 10.1, Runtime API Version: 9.0\n",
      "W0624 16:00:21.281563 21142 device_context.cc:260] device: 0, cuDNN Version: 7.3.\n",
      "2020-06-24 16:00:24,085-INFO: Finish initing model from ./output/rec_CRNN/best_accuracy.pdparams\n",
      "infer_img:./train_data/output_meter/test/img_crop_20200521104928.jpg\n",
      "\t index: [0 0 0 0 2]\n",
      "\t word : 00002\n",
      "\t score : 0.99733\n"
     ]
    }
   ],
   "source": [
    "!export PYTHONPATH=. && python3 tools/infer_rec.py -c configs/rec/rec_meter_train.yml -o Global.infer_img=\"./train_data/output_meter/test/img_crop_20200521104928.jpg\"  Global.checkpoints=\"./output/rec_CRNN/best_accuracy.pdparams\""
   ]
  },
  {
   "cell_type": "markdown",
   "metadata": {
    "collapsed": false
   },
   "source": [
    "## 将预训练的模型转Inference模型"
   ]
  },
  {
   "cell_type": "code",
   "execution_count": 34,
   "metadata": {
    "collapsed": false
   },
   "outputs": [
    {
     "name": "stdout",
     "output_type": "stream",
     "text": [
      "2020-06-24 16:03:52,223-INFO: {'Global': {'algorithm': 'CRNN', 'use_gpu': True, 'epoch_num': 300, 'log_smooth_window': 20, 'print_batch_step': 10, 'save_model_dir': './output/rec_CRNN', 'save_epoch_step': 50, 'eval_batch_step': 100, 'train_batch_size_per_card': 16, 'test_batch_size_per_card': 1, 'image_shape': [3, 32, 100], 'max_text_length': 25, 'character_type': 'en', 'loss_type': 'ctc', 'reader_yml': './configs/rec/rec_meter_reader.yml', 'pretrain_weights': './pretrain_models/rec_mv3_none_bilstm_ctc/best_accuracy', 'checkpoints': './output/rec_CRNN/best_accuracy', 'save_inference_dir': './inference/rec', 'infer_img': None}, 'Architecture': {'function': 'ppocr.modeling.architectures.rec_model,RecModel'}, 'Backbone': {'function': 'ppocr.modeling.backbones.rec_mobilenet_v3,MobileNetV3', 'scale': 0.5, 'model_name': 'large'}, 'Head': {'function': 'ppocr.modeling.heads.rec_ctc_head,CTCPredict', 'encoder_type': 'rnn', 'SeqRNN': {'hidden_size': 96}}, 'Loss': {'function': 'ppocr.modeling.losses.rec_ctc_loss,CTCLoss'}, 'Optimizer': {'function': 'ppocr.optimizer,AdamDecay', 'base_lr': 0.0005, 'beta1': 0.9, 'beta2': 0.999, 'decay': {'function': 'cosine_decay', 'step_each_epoch': 20, 'total_epoch': 1000}}, 'TrainReader': {'reader_function': 'ppocr.data.rec.dataset_traversal,SimpleReader', 'num_workers': 8, 'img_set_dir': './train_data/output_meter', 'label_file_path': './train_data/output_meter/train.txt'}, 'EvalReader': {'reader_function': 'ppocr.data.rec.dataset_traversal,SimpleReader', 'img_set_dir': './train_data/output_meter', 'label_file_path': './train_data/output_meter/test.txt'}, 'TestReader': {'reader_function': 'ppocr.data.rec.dataset_traversal,SimpleReader'}}\n",
      "W0624 16:03:52.569881 21349 device_context.cc:252] Please NOTE: device: 0, CUDA Capability: 70, Driver API Version: 10.1, Runtime API Version: 9.0\n",
      "W0624 16:03:52.573969 21349 device_context.cc:260] device: 0, cuDNN Version: 7.3.\n",
      "2020-06-24 16:03:55,373-INFO: Finish initing model from ./output/rec_CRNN/best_accuracy\n",
      "inference model saved in ./inference/rec/model and ./inference/rec/params\n",
      "save success, output_name_list: ['decoded_out', 'predicts']\n"
     ]
    }
   ],
   "source": [
    "#模型推理\r\n",
    "!export PYTHONPATH=. && python3 tools/export_model.py -c configs/rec/rec_meter_train.yml -o Global.checkpoints=\"./output/rec_CRNN/best_accuracy\"  Global.save_inference_dir=\"./inference/rec\""
   ]
  },
  {
   "cell_type": "markdown",
   "metadata": {
    "collapsed": false
   },
   "source": [
    "## 检测推理模型,最后一哆嗦了\n",
    "\n",
    "#### 这里面出现了一个问题，就是字典需要修改 具体需要参考：https://github.com/PaddlePaddle/PaddleOCR/blob/develop/doc/doc_ch/inference.md"
   ]
  },
  {
   "cell_type": "code",
   "execution_count": 40,
   "metadata": {
    "collapsed": false
   },
   "outputs": [
    {
     "name": "stdout",
     "output_type": "stream",
     "text": [
      "Predict time of ./train_data/images/train/20200529093420.png: 1.864s\r\n",
      "00001, 0.998\r\n",
      "The visualized image saved in ./inference_results/20200529093420.png\r\n"
     ]
    }
   ],
   "source": [
    "# 快速运行\r\n",
    "!export PYTHONPATH=. && python3 tools/infer/predict_system.py --image_dir=\"./train_data/images/train/20200529093420.png\" --det_model_dir=\"./inference/det_db/\"  --rec_model_dir=\"./inference/rec/\" --rec_char_dict_path=\"./ppocr/utils/meter_dict.txt\""
   ]
  },
  {
   "cell_type": "code",
   "execution_count": 1,
   "metadata": {
    "collapsed": false
   },
   "outputs": [
    {
     "name": "stdout",
     "output_type": "stream",
     "text": [
      "587961.ipynb  data  PaddleOCR  work\r\n"
     ]
    }
   ],
   "source": [
    "!ls"
   ]
  },
  {
   "cell_type": "markdown",
   "metadata": {
    "collapsed": false
   },
   "source": [
    "# 如何从Paddle保存的预测模型转为PaddleHub格式可部署的模型"
   ]
  },
  {
   "cell_type": "markdown",
   "metadata": {
    "collapsed": false
   },
   "source": [
    "请点击[此处](https://ai.baidu.com/docs#/AIStudio_Project_Notebook/a38e5576)查看本环境基本用法.  <br>\n",
    "Please click [here ](https://ai.baidu.com/docs#/AIStudio_Project_Notebook/a38e5576) for more detailed instructions. "
   ]
  }
 ],
 "metadata": {
  "kernelspec": {
   "display_name": "PaddlePaddle 1.8.0 (Python 3.5)",
   "language": "python",
   "name": "py35-paddle1.2.0"
  },
  "language_info": {
   "codemirror_mode": {
    "name": "ipython",
    "version": 3
   },
   "file_extension": ".py",
   "mimetype": "text/x-python",
   "name": "python",
   "nbconvert_exporter": "python",
   "pygments_lexer": "ipython3",
   "version": "3.7.4"
  }
 },
 "nbformat": 4,
 "nbformat_minor": 1
}
